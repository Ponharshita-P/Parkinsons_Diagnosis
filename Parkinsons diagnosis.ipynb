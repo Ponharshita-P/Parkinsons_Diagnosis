{
 "cells": [
  {
   "cell_type": "markdown",
   "id": "7efe1622",
   "metadata": {},
   "source": [
    "## IMPORT LIBRARIES "
   ]
  },
  {
   "cell_type": "code",
   "execution_count": 2,
   "id": "61cd3e78",
   "metadata": {},
   "outputs": [],
   "source": [
    "import numpy as np # linear algebra\n",
    "import pandas as pd # data processing, CSV file I/O (e.g. pd.read_csv)\n",
    "import matplotlib.pyplot as plt\n",
    "import seaborn as sns\n",
    "import scipy.stats as stats\n",
    "import math as math\n",
    "from sklearn.linear_model import LogisticRegression\n",
    "from sklearn.model_selection import train_test_split\n",
    "from sklearn.impute import SimpleImputer\n",
    "from sklearn import metrics\n",
    "from sklearn.neighbors import KNeighborsClassifier\n",
    "from sklearn.naive_bayes import GaussianNB\n",
    "from sklearn import svm\n",
    "from sklearn.tree import export_graphviz\n",
    "from os import system\n",
    "from IPython.display import Image\n",
    "from sklearn.tree import plot_tree\n",
    "from sklearn.metrics import confusion_matrix\n",
    "from sklearn.ensemble import RandomForestClassifier\n",
    "from statsmodels.stats.outliers_influence import variance_inflation_factor\n",
    "from sklearn import preprocessing\n",
    "from sklearn.preprocessing import MinMaxScaler\n",
    "from sklearn.preprocessing import StandardScaler\n",
    "from sklearn.metrics import accuracy_score\n",
    "%matplotlib inline\n",
    "sns.set(color_codes=True)"
   ]
  },
  {
   "cell_type": "markdown",
   "id": "1381f1aa",
   "metadata": {},
   "source": [
    "## IMPORT DATASET"
   ]
  },
  {
   "cell_type": "code",
   "execution_count": 4,
   "id": "78965d2a",
   "metadata": {},
   "outputs": [],
   "source": [
    "import pandas as pd\n",
    "dataset = pd.read_csv(\"parkinsons.csv\")"
   ]
  },
  {
   "cell_type": "code",
   "execution_count": 5,
   "id": "65ebb13f",
   "metadata": {},
   "outputs": [
    {
     "data": {
      "text/html": [
       "<div>\n",
       "<style scoped>\n",
       "    .dataframe tbody tr th:only-of-type {\n",
       "        vertical-align: middle;\n",
       "    }\n",
       "\n",
       "    .dataframe tbody tr th {\n",
       "        vertical-align: top;\n",
       "    }\n",
       "\n",
       "    .dataframe thead th {\n",
       "        text-align: right;\n",
       "    }\n",
       "</style>\n",
       "<table border=\"1\" class=\"dataframe\">\n",
       "  <thead>\n",
       "    <tr style=\"text-align: right;\">\n",
       "      <th></th>\n",
       "      <th>name</th>\n",
       "      <th>MDVP:Fo(Hz)</th>\n",
       "      <th>MDVP:Fhi(Hz)</th>\n",
       "      <th>MDVP:Flo(Hz)</th>\n",
       "      <th>MDVP:Jitter(%)</th>\n",
       "      <th>MDVP:Jitter(Abs)</th>\n",
       "      <th>MDVP:RAP</th>\n",
       "      <th>MDVP:PPQ</th>\n",
       "      <th>Jitter:DDP</th>\n",
       "      <th>MDVP:Shimmer</th>\n",
       "      <th>...</th>\n",
       "      <th>Shimmer:DDA</th>\n",
       "      <th>NHR</th>\n",
       "      <th>HNR</th>\n",
       "      <th>status</th>\n",
       "      <th>RPDE</th>\n",
       "      <th>DFA</th>\n",
       "      <th>spread1</th>\n",
       "      <th>spread2</th>\n",
       "      <th>D2</th>\n",
       "      <th>PPE</th>\n",
       "    </tr>\n",
       "  </thead>\n",
       "  <tbody>\n",
       "    <tr>\n",
       "      <th>0</th>\n",
       "      <td>phon_R01_S01_1</td>\n",
       "      <td>119.992</td>\n",
       "      <td>157.302</td>\n",
       "      <td>74.997</td>\n",
       "      <td>0.00784</td>\n",
       "      <td>0.00007</td>\n",
       "      <td>0.00370</td>\n",
       "      <td>0.00554</td>\n",
       "      <td>0.01109</td>\n",
       "      <td>0.04374</td>\n",
       "      <td>...</td>\n",
       "      <td>0.06545</td>\n",
       "      <td>0.02211</td>\n",
       "      <td>21.033</td>\n",
       "      <td>1</td>\n",
       "      <td>0.414783</td>\n",
       "      <td>0.815285</td>\n",
       "      <td>-4.813031</td>\n",
       "      <td>0.266482</td>\n",
       "      <td>2.301442</td>\n",
       "      <td>0.284654</td>\n",
       "    </tr>\n",
       "    <tr>\n",
       "      <th>1</th>\n",
       "      <td>phon_R01_S01_2</td>\n",
       "      <td>122.400</td>\n",
       "      <td>148.650</td>\n",
       "      <td>113.819</td>\n",
       "      <td>0.00968</td>\n",
       "      <td>0.00008</td>\n",
       "      <td>0.00465</td>\n",
       "      <td>0.00696</td>\n",
       "      <td>0.01394</td>\n",
       "      <td>0.06134</td>\n",
       "      <td>...</td>\n",
       "      <td>0.09403</td>\n",
       "      <td>0.01929</td>\n",
       "      <td>19.085</td>\n",
       "      <td>1</td>\n",
       "      <td>0.458359</td>\n",
       "      <td>0.819521</td>\n",
       "      <td>-4.075192</td>\n",
       "      <td>0.335590</td>\n",
       "      <td>2.486855</td>\n",
       "      <td>0.368674</td>\n",
       "    </tr>\n",
       "    <tr>\n",
       "      <th>2</th>\n",
       "      <td>phon_R01_S01_3</td>\n",
       "      <td>116.682</td>\n",
       "      <td>131.111</td>\n",
       "      <td>111.555</td>\n",
       "      <td>0.01050</td>\n",
       "      <td>0.00009</td>\n",
       "      <td>0.00544</td>\n",
       "      <td>0.00781</td>\n",
       "      <td>0.01633</td>\n",
       "      <td>0.05233</td>\n",
       "      <td>...</td>\n",
       "      <td>0.08270</td>\n",
       "      <td>0.01309</td>\n",
       "      <td>20.651</td>\n",
       "      <td>1</td>\n",
       "      <td>0.429895</td>\n",
       "      <td>0.825288</td>\n",
       "      <td>-4.443179</td>\n",
       "      <td>0.311173</td>\n",
       "      <td>2.342259</td>\n",
       "      <td>0.332634</td>\n",
       "    </tr>\n",
       "    <tr>\n",
       "      <th>3</th>\n",
       "      <td>phon_R01_S01_4</td>\n",
       "      <td>116.676</td>\n",
       "      <td>137.871</td>\n",
       "      <td>111.366</td>\n",
       "      <td>0.00997</td>\n",
       "      <td>0.00009</td>\n",
       "      <td>0.00502</td>\n",
       "      <td>0.00698</td>\n",
       "      <td>0.01505</td>\n",
       "      <td>0.05492</td>\n",
       "      <td>...</td>\n",
       "      <td>0.08771</td>\n",
       "      <td>0.01353</td>\n",
       "      <td>20.644</td>\n",
       "      <td>1</td>\n",
       "      <td>0.434969</td>\n",
       "      <td>0.819235</td>\n",
       "      <td>-4.117501</td>\n",
       "      <td>0.334147</td>\n",
       "      <td>2.405554</td>\n",
       "      <td>0.368975</td>\n",
       "    </tr>\n",
       "    <tr>\n",
       "      <th>4</th>\n",
       "      <td>phon_R01_S01_5</td>\n",
       "      <td>116.014</td>\n",
       "      <td>141.781</td>\n",
       "      <td>110.655</td>\n",
       "      <td>0.01284</td>\n",
       "      <td>0.00011</td>\n",
       "      <td>0.00655</td>\n",
       "      <td>0.00908</td>\n",
       "      <td>0.01966</td>\n",
       "      <td>0.06425</td>\n",
       "      <td>...</td>\n",
       "      <td>0.10470</td>\n",
       "      <td>0.01767</td>\n",
       "      <td>19.649</td>\n",
       "      <td>1</td>\n",
       "      <td>0.417356</td>\n",
       "      <td>0.823484</td>\n",
       "      <td>-3.747787</td>\n",
       "      <td>0.234513</td>\n",
       "      <td>2.332180</td>\n",
       "      <td>0.410335</td>\n",
       "    </tr>\n",
       "  </tbody>\n",
       "</table>\n",
       "<p>5 rows × 24 columns</p>\n",
       "</div>"
      ],
      "text/plain": [
       "             name  MDVP:Fo(Hz)  MDVP:Fhi(Hz)  MDVP:Flo(Hz)  MDVP:Jitter(%)  \\\n",
       "0  phon_R01_S01_1      119.992       157.302        74.997         0.00784   \n",
       "1  phon_R01_S01_2      122.400       148.650       113.819         0.00968   \n",
       "2  phon_R01_S01_3      116.682       131.111       111.555         0.01050   \n",
       "3  phon_R01_S01_4      116.676       137.871       111.366         0.00997   \n",
       "4  phon_R01_S01_5      116.014       141.781       110.655         0.01284   \n",
       "\n",
       "   MDVP:Jitter(Abs)  MDVP:RAP  MDVP:PPQ  Jitter:DDP  MDVP:Shimmer  ...  \\\n",
       "0           0.00007   0.00370   0.00554     0.01109       0.04374  ...   \n",
       "1           0.00008   0.00465   0.00696     0.01394       0.06134  ...   \n",
       "2           0.00009   0.00544   0.00781     0.01633       0.05233  ...   \n",
       "3           0.00009   0.00502   0.00698     0.01505       0.05492  ...   \n",
       "4           0.00011   0.00655   0.00908     0.01966       0.06425  ...   \n",
       "\n",
       "   Shimmer:DDA      NHR     HNR  status      RPDE       DFA   spread1  \\\n",
       "0      0.06545  0.02211  21.033       1  0.414783  0.815285 -4.813031   \n",
       "1      0.09403  0.01929  19.085       1  0.458359  0.819521 -4.075192   \n",
       "2      0.08270  0.01309  20.651       1  0.429895  0.825288 -4.443179   \n",
       "3      0.08771  0.01353  20.644       1  0.434969  0.819235 -4.117501   \n",
       "4      0.10470  0.01767  19.649       1  0.417356  0.823484 -3.747787   \n",
       "\n",
       "    spread2        D2       PPE  \n",
       "0  0.266482  2.301442  0.284654  \n",
       "1  0.335590  2.486855  0.368674  \n",
       "2  0.311173  2.342259  0.332634  \n",
       "3  0.334147  2.405554  0.368975  \n",
       "4  0.234513  2.332180  0.410335  \n",
       "\n",
       "[5 rows x 24 columns]"
      ]
     },
     "execution_count": 5,
     "metadata": {},
     "output_type": "execute_result"
    }
   ],
   "source": [
    "dataset.head()"
   ]
  },
  {
   "cell_type": "code",
   "execution_count": 7,
   "id": "24ccce6a",
   "metadata": {},
   "outputs": [
    {
     "name": "stdout",
     "output_type": "stream",
     "text": [
      "The shape of the dataframe is (195, 24) which means there are 195 rows of voice recordings and 24 attributes of patients.\n"
     ]
    }
   ],
   "source": [
    "shape_data=dataset.shape\n",
    "print('The shape of the dataframe is',shape_data,'which means there are',shape_data[0],'rows of voice recordings and',shape_data[1],'attributes of patients.')"
   ]
  },
  {
   "cell_type": "code",
   "execution_count": 8,
   "id": "33f412e3",
   "metadata": {},
   "outputs": [
    {
     "data": {
      "text/html": [
       "<div>\n",
       "<style scoped>\n",
       "    .dataframe tbody tr th:only-of-type {\n",
       "        vertical-align: middle;\n",
       "    }\n",
       "\n",
       "    .dataframe tbody tr th {\n",
       "        vertical-align: top;\n",
       "    }\n",
       "\n",
       "    .dataframe thead th {\n",
       "        text-align: right;\n",
       "    }\n",
       "</style>\n",
       "<table border=\"1\" class=\"dataframe\">\n",
       "  <thead>\n",
       "    <tr style=\"text-align: right;\">\n",
       "      <th></th>\n",
       "      <th>MDVP:Fo(Hz)</th>\n",
       "      <th>MDVP:Fhi(Hz)</th>\n",
       "      <th>MDVP:Flo(Hz)</th>\n",
       "      <th>MDVP:Jitter(%)</th>\n",
       "      <th>MDVP:Jitter(Abs)</th>\n",
       "      <th>MDVP:RAP</th>\n",
       "      <th>MDVP:PPQ</th>\n",
       "      <th>Jitter:DDP</th>\n",
       "      <th>MDVP:Shimmer</th>\n",
       "      <th>MDVP:Shimmer(dB)</th>\n",
       "      <th>...</th>\n",
       "      <th>Shimmer:DDA</th>\n",
       "      <th>NHR</th>\n",
       "      <th>HNR</th>\n",
       "      <th>status</th>\n",
       "      <th>RPDE</th>\n",
       "      <th>DFA</th>\n",
       "      <th>spread1</th>\n",
       "      <th>spread2</th>\n",
       "      <th>D2</th>\n",
       "      <th>PPE</th>\n",
       "    </tr>\n",
       "  </thead>\n",
       "  <tbody>\n",
       "    <tr>\n",
       "      <th>count</th>\n",
       "      <td>195.000000</td>\n",
       "      <td>195.000000</td>\n",
       "      <td>195.000000</td>\n",
       "      <td>195.000000</td>\n",
       "      <td>195.000000</td>\n",
       "      <td>195.000000</td>\n",
       "      <td>195.000000</td>\n",
       "      <td>195.000000</td>\n",
       "      <td>195.000000</td>\n",
       "      <td>195.000000</td>\n",
       "      <td>...</td>\n",
       "      <td>195.000000</td>\n",
       "      <td>195.000000</td>\n",
       "      <td>195.000000</td>\n",
       "      <td>195.000000</td>\n",
       "      <td>195.000000</td>\n",
       "      <td>195.000000</td>\n",
       "      <td>195.000000</td>\n",
       "      <td>195.000000</td>\n",
       "      <td>195.000000</td>\n",
       "      <td>195.000000</td>\n",
       "    </tr>\n",
       "    <tr>\n",
       "      <th>mean</th>\n",
       "      <td>154.228641</td>\n",
       "      <td>197.104918</td>\n",
       "      <td>116.324631</td>\n",
       "      <td>0.006220</td>\n",
       "      <td>0.000044</td>\n",
       "      <td>0.003306</td>\n",
       "      <td>0.003446</td>\n",
       "      <td>0.009920</td>\n",
       "      <td>0.029709</td>\n",
       "      <td>0.282251</td>\n",
       "      <td>...</td>\n",
       "      <td>0.046993</td>\n",
       "      <td>0.024847</td>\n",
       "      <td>21.885974</td>\n",
       "      <td>0.753846</td>\n",
       "      <td>0.498536</td>\n",
       "      <td>0.718099</td>\n",
       "      <td>-5.684397</td>\n",
       "      <td>0.226510</td>\n",
       "      <td>2.381826</td>\n",
       "      <td>0.206552</td>\n",
       "    </tr>\n",
       "    <tr>\n",
       "      <th>std</th>\n",
       "      <td>41.390065</td>\n",
       "      <td>91.491548</td>\n",
       "      <td>43.521413</td>\n",
       "      <td>0.004848</td>\n",
       "      <td>0.000035</td>\n",
       "      <td>0.002968</td>\n",
       "      <td>0.002759</td>\n",
       "      <td>0.008903</td>\n",
       "      <td>0.018857</td>\n",
       "      <td>0.194877</td>\n",
       "      <td>...</td>\n",
       "      <td>0.030459</td>\n",
       "      <td>0.040418</td>\n",
       "      <td>4.425764</td>\n",
       "      <td>0.431878</td>\n",
       "      <td>0.103942</td>\n",
       "      <td>0.055336</td>\n",
       "      <td>1.090208</td>\n",
       "      <td>0.083406</td>\n",
       "      <td>0.382799</td>\n",
       "      <td>0.090119</td>\n",
       "    </tr>\n",
       "    <tr>\n",
       "      <th>min</th>\n",
       "      <td>88.333000</td>\n",
       "      <td>102.145000</td>\n",
       "      <td>65.476000</td>\n",
       "      <td>0.001680</td>\n",
       "      <td>0.000007</td>\n",
       "      <td>0.000680</td>\n",
       "      <td>0.000920</td>\n",
       "      <td>0.002040</td>\n",
       "      <td>0.009540</td>\n",
       "      <td>0.085000</td>\n",
       "      <td>...</td>\n",
       "      <td>0.013640</td>\n",
       "      <td>0.000650</td>\n",
       "      <td>8.441000</td>\n",
       "      <td>0.000000</td>\n",
       "      <td>0.256570</td>\n",
       "      <td>0.574282</td>\n",
       "      <td>-7.964984</td>\n",
       "      <td>0.006274</td>\n",
       "      <td>1.423287</td>\n",
       "      <td>0.044539</td>\n",
       "    </tr>\n",
       "    <tr>\n",
       "      <th>25%</th>\n",
       "      <td>117.572000</td>\n",
       "      <td>134.862500</td>\n",
       "      <td>84.291000</td>\n",
       "      <td>0.003460</td>\n",
       "      <td>0.000020</td>\n",
       "      <td>0.001660</td>\n",
       "      <td>0.001860</td>\n",
       "      <td>0.004985</td>\n",
       "      <td>0.016505</td>\n",
       "      <td>0.148500</td>\n",
       "      <td>...</td>\n",
       "      <td>0.024735</td>\n",
       "      <td>0.005925</td>\n",
       "      <td>19.198000</td>\n",
       "      <td>1.000000</td>\n",
       "      <td>0.421306</td>\n",
       "      <td>0.674758</td>\n",
       "      <td>-6.450096</td>\n",
       "      <td>0.174351</td>\n",
       "      <td>2.099125</td>\n",
       "      <td>0.137451</td>\n",
       "    </tr>\n",
       "    <tr>\n",
       "      <th>50%</th>\n",
       "      <td>148.790000</td>\n",
       "      <td>175.829000</td>\n",
       "      <td>104.315000</td>\n",
       "      <td>0.004940</td>\n",
       "      <td>0.000030</td>\n",
       "      <td>0.002500</td>\n",
       "      <td>0.002690</td>\n",
       "      <td>0.007490</td>\n",
       "      <td>0.022970</td>\n",
       "      <td>0.221000</td>\n",
       "      <td>...</td>\n",
       "      <td>0.038360</td>\n",
       "      <td>0.011660</td>\n",
       "      <td>22.085000</td>\n",
       "      <td>1.000000</td>\n",
       "      <td>0.495954</td>\n",
       "      <td>0.722254</td>\n",
       "      <td>-5.720868</td>\n",
       "      <td>0.218885</td>\n",
       "      <td>2.361532</td>\n",
       "      <td>0.194052</td>\n",
       "    </tr>\n",
       "    <tr>\n",
       "      <th>75%</th>\n",
       "      <td>182.769000</td>\n",
       "      <td>224.205500</td>\n",
       "      <td>140.018500</td>\n",
       "      <td>0.007365</td>\n",
       "      <td>0.000060</td>\n",
       "      <td>0.003835</td>\n",
       "      <td>0.003955</td>\n",
       "      <td>0.011505</td>\n",
       "      <td>0.037885</td>\n",
       "      <td>0.350000</td>\n",
       "      <td>...</td>\n",
       "      <td>0.060795</td>\n",
       "      <td>0.025640</td>\n",
       "      <td>25.075500</td>\n",
       "      <td>1.000000</td>\n",
       "      <td>0.587562</td>\n",
       "      <td>0.761881</td>\n",
       "      <td>-5.046192</td>\n",
       "      <td>0.279234</td>\n",
       "      <td>2.636456</td>\n",
       "      <td>0.252980</td>\n",
       "    </tr>\n",
       "    <tr>\n",
       "      <th>max</th>\n",
       "      <td>260.105000</td>\n",
       "      <td>592.030000</td>\n",
       "      <td>239.170000</td>\n",
       "      <td>0.033160</td>\n",
       "      <td>0.000260</td>\n",
       "      <td>0.021440</td>\n",
       "      <td>0.019580</td>\n",
       "      <td>0.064330</td>\n",
       "      <td>0.119080</td>\n",
       "      <td>1.302000</td>\n",
       "      <td>...</td>\n",
       "      <td>0.169420</td>\n",
       "      <td>0.314820</td>\n",
       "      <td>33.047000</td>\n",
       "      <td>1.000000</td>\n",
       "      <td>0.685151</td>\n",
       "      <td>0.825288</td>\n",
       "      <td>-2.434031</td>\n",
       "      <td>0.450493</td>\n",
       "      <td>3.671155</td>\n",
       "      <td>0.527367</td>\n",
       "    </tr>\n",
       "  </tbody>\n",
       "</table>\n",
       "<p>8 rows × 23 columns</p>\n",
       "</div>"
      ],
      "text/plain": [
       "       MDVP:Fo(Hz)  MDVP:Fhi(Hz)  MDVP:Flo(Hz)  MDVP:Jitter(%)  \\\n",
       "count   195.000000    195.000000    195.000000      195.000000   \n",
       "mean    154.228641    197.104918    116.324631        0.006220   \n",
       "std      41.390065     91.491548     43.521413        0.004848   \n",
       "min      88.333000    102.145000     65.476000        0.001680   \n",
       "25%     117.572000    134.862500     84.291000        0.003460   \n",
       "50%     148.790000    175.829000    104.315000        0.004940   \n",
       "75%     182.769000    224.205500    140.018500        0.007365   \n",
       "max     260.105000    592.030000    239.170000        0.033160   \n",
       "\n",
       "       MDVP:Jitter(Abs)    MDVP:RAP    MDVP:PPQ  Jitter:DDP  MDVP:Shimmer  \\\n",
       "count        195.000000  195.000000  195.000000  195.000000    195.000000   \n",
       "mean           0.000044    0.003306    0.003446    0.009920      0.029709   \n",
       "std            0.000035    0.002968    0.002759    0.008903      0.018857   \n",
       "min            0.000007    0.000680    0.000920    0.002040      0.009540   \n",
       "25%            0.000020    0.001660    0.001860    0.004985      0.016505   \n",
       "50%            0.000030    0.002500    0.002690    0.007490      0.022970   \n",
       "75%            0.000060    0.003835    0.003955    0.011505      0.037885   \n",
       "max            0.000260    0.021440    0.019580    0.064330      0.119080   \n",
       "\n",
       "       MDVP:Shimmer(dB)  ...  Shimmer:DDA         NHR         HNR      status  \\\n",
       "count        195.000000  ...   195.000000  195.000000  195.000000  195.000000   \n",
       "mean           0.282251  ...     0.046993    0.024847   21.885974    0.753846   \n",
       "std            0.194877  ...     0.030459    0.040418    4.425764    0.431878   \n",
       "min            0.085000  ...     0.013640    0.000650    8.441000    0.000000   \n",
       "25%            0.148500  ...     0.024735    0.005925   19.198000    1.000000   \n",
       "50%            0.221000  ...     0.038360    0.011660   22.085000    1.000000   \n",
       "75%            0.350000  ...     0.060795    0.025640   25.075500    1.000000   \n",
       "max            1.302000  ...     0.169420    0.314820   33.047000    1.000000   \n",
       "\n",
       "             RPDE         DFA     spread1     spread2          D2         PPE  \n",
       "count  195.000000  195.000000  195.000000  195.000000  195.000000  195.000000  \n",
       "mean     0.498536    0.718099   -5.684397    0.226510    2.381826    0.206552  \n",
       "std      0.103942    0.055336    1.090208    0.083406    0.382799    0.090119  \n",
       "min      0.256570    0.574282   -7.964984    0.006274    1.423287    0.044539  \n",
       "25%      0.421306    0.674758   -6.450096    0.174351    2.099125    0.137451  \n",
       "50%      0.495954    0.722254   -5.720868    0.218885    2.361532    0.194052  \n",
       "75%      0.587562    0.761881   -5.046192    0.279234    2.636456    0.252980  \n",
       "max      0.685151    0.825288   -2.434031    0.450493    3.671155    0.527367  \n",
       "\n",
       "[8 rows x 23 columns]"
      ]
     },
     "execution_count": 8,
     "metadata": {},
     "output_type": "execute_result"
    }
   ],
   "source": [
    "dataset.describe()"
   ]
  },
  {
   "cell_type": "markdown",
   "id": "396ae6b3",
   "metadata": {},
   "source": [
    "## EXPLORATORY DATA ANALYSIS (EDA)"
   ]
  },
  {
   "cell_type": "markdown",
   "id": "fec1e3cd",
   "metadata": {},
   "source": [
    "### HEAT MAP"
   ]
  },
  {
   "cell_type": "code",
   "execution_count": 9,
   "id": "2c848107",
   "metadata": {},
   "outputs": [
    {
     "data": {
      "image/png": "[encoded data removed]",
      "text/plain": [
       "<Figure size 1440x1440 with 2 Axes>"
      ]
     },
     "metadata": {},
     "output_type": "display_data"
    }
   ],
   "source": [
    "usecols =[i for i in dataset.columns if i != ['name','status']]\n",
    "corr=dataset[usecols].corr()\n",
    "fig, ax = plt.subplots(figsize=(20,20))\n",
    "sns.heatmap(corr,annot=True,linewidth=0.05,ax=ax, fmt= '.2f');\n"
   ]
  },
  {
   "cell_type": "markdown",
   "id": "a0be05c2",
   "metadata": {},
   "source": [
    "## DATA PREPROCESSING "
   ]
  },
  {
   "cell_type": "markdown",
   "id": "e2deb6f0",
   "metadata": {},
   "source": [
    "### 1.Checking Null or Empty Values (Data Cleaning) :"
   ]
  },
  {
   "cell_type": "code",
   "execution_count": 10,
   "id": "2746860b",
   "metadata": {},
   "outputs": [
    {
     "data": {
      "text/plain": [
       "name                0\n",
       "MDVP:Fo(Hz)         0\n",
       "MDVP:Fhi(Hz)        0\n",
       "MDVP:Flo(Hz)        0\n",
       "MDVP:Jitter(%)      0\n",
       "MDVP:Jitter(Abs)    0\n",
       "MDVP:RAP            0\n",
       "MDVP:PPQ            0\n",
       "Jitter:DDP          0\n",
       "MDVP:Shimmer        0\n",
       "MDVP:Shimmer(dB)    0\n",
       "Shimmer:APQ3        0\n",
       "Shimmer:APQ5        0\n",
       "MDVP:APQ            0\n",
       "Shimmer:DDA         0\n",
       "NHR                 0\n",
       "HNR                 0\n",
       "status              0\n",
       "RPDE                0\n",
       "DFA                 0\n",
       "spread1             0\n",
       "spread2             0\n",
       "D2                  0\n",
       "PPE                 0\n",
       "dtype: int64"
      ]
     },
     "execution_count": 10,
     "metadata": {},
     "output_type": "execute_result"
    }
   ],
   "source": [
    "# Checking null value sum\n",
    "dataset.isna().sum()"
   ]
  },
  {
   "cell_type": "markdown",
   "id": "962f905f",
   "metadata": {},
   "source": [
    "We dont have any null values so now we can safely go ahead..."
   ]
  },
  {
   "cell_type": "markdown",
   "id": "a4443080",
   "metadata": {},
   "source": [
    "### 2. Label Encoder/One Hot Encoder :\n",
    "\n",
    "Encoding the Categorical values into numerical values is not required in this dataset. Because all values we have floating type only. we have name column as a categorical values but we are not going to use that column in model prediction. So no need to apply label encoding...\n",
    "\n",
    "### 3. Handle Outliers :\n",
    "\n",
    "We didn't find any outliers in our dataset so we can safely go ahead."
   ]
  },
  {
   "cell_type": "markdown",
   "id": "4ae648ab",
   "metadata": {},
   "source": [
    "### 4. MultiCollinearity:\n",
    "\n",
    "There seems to exist high correlation between multiple independent attributes. This might be a problem since, we would not be able to distinguish between the individual effects of the independent attributes on the dependent attribute. We'll try to identify the multi-collinearity by leveraging VIF (Variable Inflation Factor) and if it is found to be high then we will attempt at reducing the multi-collinearity by deleting few attributes with high VIF.\n"
   ]
  },
  {
   "cell_type": "code",
   "execution_count": 11,
   "id": "3c796473",
   "metadata": {},
   "outputs": [
    {
     "data": {
      "text/html": [
       "<div>\n",
       "<style scoped>\n",
       "    .dataframe tbody tr th:only-of-type {\n",
       "        vertical-align: middle;\n",
       "    }\n",
       "\n",
       "    .dataframe tbody tr th {\n",
       "        vertical-align: top;\n",
       "    }\n",
       "\n",
       "    .dataframe thead th {\n",
       "        text-align: right;\n",
       "    }\n",
       "</style>\n",
       "<table border=\"1\" class=\"dataframe\">\n",
       "  <thead>\n",
       "    <tr style=\"text-align: right;\">\n",
       "      <th></th>\n",
       "      <th>MDVP:Fo(Hz)</th>\n",
       "      <th>MDVP:Fhi(Hz)</th>\n",
       "      <th>MDVP:Flo(Hz)</th>\n",
       "      <th>MDVP:Jitter(%)</th>\n",
       "      <th>MDVP:Jitter(Abs)</th>\n",
       "      <th>MDVP:RAP</th>\n",
       "      <th>MDVP:PPQ</th>\n",
       "      <th>Jitter:DDP</th>\n",
       "      <th>MDVP:Shimmer</th>\n",
       "      <th>MDVP:Shimmer(dB)</th>\n",
       "      <th>...</th>\n",
       "      <th>Shimmer:DDA</th>\n",
       "      <th>NHR</th>\n",
       "      <th>HNR</th>\n",
       "      <th>status</th>\n",
       "      <th>RPDE</th>\n",
       "      <th>DFA</th>\n",
       "      <th>spread1</th>\n",
       "      <th>spread2</th>\n",
       "      <th>D2</th>\n",
       "      <th>PPE</th>\n",
       "    </tr>\n",
       "  </thead>\n",
       "  <tbody>\n",
       "    <tr>\n",
       "      <th>0</th>\n",
       "      <td>119.992</td>\n",
       "      <td>157.302</td>\n",
       "      <td>74.997</td>\n",
       "      <td>0.00784</td>\n",
       "      <td>0.00007</td>\n",
       "      <td>0.00370</td>\n",
       "      <td>0.00554</td>\n",
       "      <td>0.01109</td>\n",
       "      <td>0.04374</td>\n",
       "      <td>0.426</td>\n",
       "      <td>...</td>\n",
       "      <td>0.06545</td>\n",
       "      <td>0.02211</td>\n",
       "      <td>21.033</td>\n",
       "      <td>1</td>\n",
       "      <td>0.414783</td>\n",
       "      <td>0.815285</td>\n",
       "      <td>-4.813031</td>\n",
       "      <td>0.266482</td>\n",
       "      <td>2.301442</td>\n",
       "      <td>0.284654</td>\n",
       "    </tr>\n",
       "    <tr>\n",
       "      <th>1</th>\n",
       "      <td>122.400</td>\n",
       "      <td>148.650</td>\n",
       "      <td>113.819</td>\n",
       "      <td>0.00968</td>\n",
       "      <td>0.00008</td>\n",
       "      <td>0.00465</td>\n",
       "      <td>0.00696</td>\n",
       "      <td>0.01394</td>\n",
       "      <td>0.06134</td>\n",
       "      <td>0.626</td>\n",
       "      <td>...</td>\n",
       "      <td>0.09403</td>\n",
       "      <td>0.01929</td>\n",
       "      <td>19.085</td>\n",
       "      <td>1</td>\n",
       "      <td>0.458359</td>\n",
       "      <td>0.819521</td>\n",
       "      <td>-4.075192</td>\n",
       "      <td>0.335590</td>\n",
       "      <td>2.486855</td>\n",
       "      <td>0.368674</td>\n",
       "    </tr>\n",
       "    <tr>\n",
       "      <th>2</th>\n",
       "      <td>116.682</td>\n",
       "      <td>131.111</td>\n",
       "      <td>111.555</td>\n",
       "      <td>0.01050</td>\n",
       "      <td>0.00009</td>\n",
       "      <td>0.00544</td>\n",
       "      <td>0.00781</td>\n",
       "      <td>0.01633</td>\n",
       "      <td>0.05233</td>\n",
       "      <td>0.482</td>\n",
       "      <td>...</td>\n",
       "      <td>0.08270</td>\n",
       "      <td>0.01309</td>\n",
       "      <td>20.651</td>\n",
       "      <td>1</td>\n",
       "      <td>0.429895</td>\n",
       "      <td>0.825288</td>\n",
       "      <td>-4.443179</td>\n",
       "      <td>0.311173</td>\n",
       "      <td>2.342259</td>\n",
       "      <td>0.332634</td>\n",
       "    </tr>\n",
       "    <tr>\n",
       "      <th>3</th>\n",
       "      <td>116.676</td>\n",
       "      <td>137.871</td>\n",
       "      <td>111.366</td>\n",
       "      <td>0.00997</td>\n",
       "      <td>0.00009</td>\n",
       "      <td>0.00502</td>\n",
       "      <td>0.00698</td>\n",
       "      <td>0.01505</td>\n",
       "      <td>0.05492</td>\n",
       "      <td>0.517</td>\n",
       "      <td>...</td>\n",
       "      <td>0.08771</td>\n",
       "      <td>0.01353</td>\n",
       "      <td>20.644</td>\n",
       "      <td>1</td>\n",
       "      <td>0.434969</td>\n",
       "      <td>0.819235</td>\n",
       "      <td>-4.117501</td>\n",
       "      <td>0.334147</td>\n",
       "      <td>2.405554</td>\n",
       "      <td>0.368975</td>\n",
       "    </tr>\n",
       "    <tr>\n",
       "      <th>4</th>\n",
       "      <td>116.014</td>\n",
       "      <td>141.781</td>\n",
       "      <td>110.655</td>\n",
       "      <td>0.01284</td>\n",
       "      <td>0.00011</td>\n",
       "      <td>0.00655</td>\n",
       "      <td>0.00908</td>\n",
       "      <td>0.01966</td>\n",
       "      <td>0.06425</td>\n",
       "      <td>0.584</td>\n",
       "      <td>...</td>\n",
       "      <td>0.10470</td>\n",
       "      <td>0.01767</td>\n",
       "      <td>19.649</td>\n",
       "      <td>1</td>\n",
       "      <td>0.417356</td>\n",
       "      <td>0.823484</td>\n",
       "      <td>-3.747787</td>\n",
       "      <td>0.234513</td>\n",
       "      <td>2.332180</td>\n",
       "      <td>0.410335</td>\n",
       "    </tr>\n",
       "  </tbody>\n",
       "</table>\n",
       "<p>5 rows × 23 columns</p>\n",
       "</div>"
      ],
      "text/plain": [
       "   MDVP:Fo(Hz)  MDVP:Fhi(Hz)  MDVP:Flo(Hz)  MDVP:Jitter(%)  MDVP:Jitter(Abs)  \\\n",
       "0      119.992       157.302        74.997         0.00784           0.00007   \n",
       "1      122.400       148.650       113.819         0.00968           0.00008   \n",
       "2      116.682       131.111       111.555         0.01050           0.00009   \n",
       "3      116.676       137.871       111.366         0.00997           0.00009   \n",
       "4      116.014       141.781       110.655         0.01284           0.00011   \n",
       "\n",
       "   MDVP:RAP  MDVP:PPQ  Jitter:DDP  MDVP:Shimmer  MDVP:Shimmer(dB)  ...  \\\n",
       "0   0.00370   0.00554     0.01109       0.04374             0.426  ...   \n",
       "1   0.00465   0.00696     0.01394       0.06134             0.626  ...   \n",
       "2   0.00544   0.00781     0.01633       0.05233             0.482  ...   \n",
       "3   0.00502   0.00698     0.01505       0.05492             0.517  ...   \n",
       "4   0.00655   0.00908     0.01966       0.06425             0.584  ...   \n",
       "\n",
       "   Shimmer:DDA      NHR     HNR  status      RPDE       DFA   spread1  \\\n",
       "0      0.06545  0.02211  21.033       1  0.414783  0.815285 -4.813031   \n",
       "1      0.09403  0.01929  19.085       1  0.458359  0.819521 -4.075192   \n",
       "2      0.08270  0.01309  20.651       1  0.429895  0.825288 -4.443179   \n",
       "3      0.08771  0.01353  20.644       1  0.434969  0.819235 -4.117501   \n",
       "4      0.10470  0.01767  19.649       1  0.417356  0.823484 -3.747787   \n",
       "\n",
       "    spread2        D2       PPE  \n",
       "0  0.266482  2.301442  0.284654  \n",
       "1  0.335590  2.486855  0.368674  \n",
       "2  0.311173  2.342259  0.332634  \n",
       "3  0.334147  2.405554  0.368975  \n",
       "4  0.234513  2.332180  0.410335  \n",
       "\n",
       "[5 rows x 23 columns]"
      ]
     },
     "execution_count": 11,
     "metadata": {},
     "output_type": "execute_result"
    }
   ],
   "source": [
    "\n",
    "#Dropping the column Name\n",
    "udata=dataset.drop('name',axis=1)\n",
    "udata.head()"
   ]
  },
  {
   "cell_type": "markdown",
   "id": "d6dec49e",
   "metadata": {},
   "source": [
    "Checking and removing multi-collinearity:\n",
    "\n",
    "In this step we will check the multicollinearity by computing VIF (Variable Inflation Factors) score; VIF score of an independent variable represents how well the variable is explained by other independent variables.\n",
    "\n",
    "MultiCollinearity: \n",
    "\n",
    "Multicolinearity exists when there is high correlation between multiple independent variables. This might be a problem since, we would not be able to distinguish between the individual effects of the independent variables on the dependent variable. We'll try to identify the multi-collinearity by leveraging VIF (Variable Inflation Factor) and if it is found to be high then we will attempt at reducing the multi-collinearity by deleting few variables with high VIF."
   ]
  },
  {
   "cell_type": "code",
   "execution_count": 12,
   "id": "9fb046fb",
   "metadata": {},
   "outputs": [],
   "source": [
    "# lets make a copy of the data\n",
    "pdata=udata.copy()"
   ]
  },
  {
   "cell_type": "code",
   "execution_count": 13,
   "id": "0f3704df",
   "metadata": {},
   "outputs": [
    {
     "name": "stderr",
     "output_type": "stream",
     "text": [
      "C:\\Users\\Harshita_harshu___\\anaconda3\\lib\\site-packages\\statsmodels\\regression\\linear_model.py:1738: RuntimeWarning: invalid value encountered in double_scalars\n",
      "  return 1 - self.ssr/self.uncentered_tss\n"
     ]
    },
    {
     "data": {
      "text/html": [
       "<div>\n",
       "<style scoped>\n",
       "    .dataframe tbody tr th:only-of-type {\n",
       "        vertical-align: middle;\n",
       "    }\n",
       "\n",
       "    .dataframe tbody tr th {\n",
       "        vertical-align: top;\n",
       "    }\n",
       "\n",
       "    .dataframe thead th {\n",
       "        text-align: right;\n",
       "    }\n",
       "</style>\n",
       "<table border=\"1\" class=\"dataframe\">\n",
       "  <thead>\n",
       "    <tr style=\"text-align: right;\">\n",
       "      <th></th>\n",
       "      <th>variables</th>\n",
       "      <th>VIF</th>\n",
       "    </tr>\n",
       "  </thead>\n",
       "  <tbody>\n",
       "    <tr>\n",
       "      <th>0</th>\n",
       "      <td>MDVP:Fo(Hz)</td>\n",
       "      <td>53.518297</td>\n",
       "    </tr>\n",
       "    <tr>\n",
       "      <th>1</th>\n",
       "      <td>MDVP:Fhi(Hz)</td>\n",
       "      <td>8.795329</td>\n",
       "    </tr>\n",
       "    <tr>\n",
       "      <th>2</th>\n",
       "      <td>MDVP:Flo(Hz)</td>\n",
       "      <td>17.257065</td>\n",
       "    </tr>\n",
       "    <tr>\n",
       "      <th>3</th>\n",
       "      <td>MDVP:Jitter(%)</td>\n",
       "      <td>7.607233</td>\n",
       "    </tr>\n",
       "    <tr>\n",
       "      <th>4</th>\n",
       "      <td>MDVP:Jitter(Abs)</td>\n",
       "      <td>NaN</td>\n",
       "    </tr>\n",
       "    <tr>\n",
       "      <th>5</th>\n",
       "      <td>MDVP:RAP</td>\n",
       "      <td>6.262228</td>\n",
       "    </tr>\n",
       "    <tr>\n",
       "      <th>6</th>\n",
       "      <td>MDVP:PPQ</td>\n",
       "      <td>6.428414</td>\n",
       "    </tr>\n",
       "    <tr>\n",
       "      <th>7</th>\n",
       "      <td>Jitter:DDP</td>\n",
       "      <td>17.730525</td>\n",
       "    </tr>\n",
       "    <tr>\n",
       "      <th>8</th>\n",
       "      <td>MDVP:Shimmer</td>\n",
       "      <td>127.969986</td>\n",
       "    </tr>\n",
       "    <tr>\n",
       "      <th>9</th>\n",
       "      <td>MDVP:Shimmer(dB)</td>\n",
       "      <td>179.950644</td>\n",
       "    </tr>\n",
       "    <tr>\n",
       "      <th>10</th>\n",
       "      <td>Shimmer:APQ3</td>\n",
       "      <td>50.975323</td>\n",
       "    </tr>\n",
       "    <tr>\n",
       "      <th>11</th>\n",
       "      <td>Shimmer:APQ5</td>\n",
       "      <td>50.757486</td>\n",
       "    </tr>\n",
       "    <tr>\n",
       "      <th>12</th>\n",
       "      <td>MDVP:APQ</td>\n",
       "      <td>38.045755</td>\n",
       "    </tr>\n",
       "    <tr>\n",
       "      <th>13</th>\n",
       "      <td>Shimmer:DDA</td>\n",
       "      <td>116.417709</td>\n",
       "    </tr>\n",
       "    <tr>\n",
       "      <th>14</th>\n",
       "      <td>NHR</td>\n",
       "      <td>9.295047</td>\n",
       "    </tr>\n",
       "    <tr>\n",
       "      <th>15</th>\n",
       "      <td>HNR</td>\n",
       "      <td>113.513848</td>\n",
       "    </tr>\n",
       "    <tr>\n",
       "      <th>16</th>\n",
       "      <td>status</td>\n",
       "      <td>7.088918</td>\n",
       "    </tr>\n",
       "    <tr>\n",
       "      <th>17</th>\n",
       "      <td>RPDE</td>\n",
       "      <td>55.616809</td>\n",
       "    </tr>\n",
       "    <tr>\n",
       "      <th>18</th>\n",
       "      <td>DFA</td>\n",
       "      <td>381.938145</td>\n",
       "    </tr>\n",
       "    <tr>\n",
       "      <th>19</th>\n",
       "      <td>spread1</td>\n",
       "      <td>352.310026</td>\n",
       "    </tr>\n",
       "    <tr>\n",
       "      <th>20</th>\n",
       "      <td>spread2</td>\n",
       "      <td>20.357928</td>\n",
       "    </tr>\n",
       "    <tr>\n",
       "      <th>21</th>\n",
       "      <td>D2</td>\n",
       "      <td>94.474447</td>\n",
       "    </tr>\n",
       "    <tr>\n",
       "      <th>22</th>\n",
       "      <td>PPE</td>\n",
       "      <td>96.187989</td>\n",
       "    </tr>\n",
       "  </tbody>\n",
       "</table>\n",
       "</div>"
      ],
      "text/plain": [
       "           variables         VIF\n",
       "0        MDVP:Fo(Hz)   53.518297\n",
       "1       MDVP:Fhi(Hz)    8.795329\n",
       "2       MDVP:Flo(Hz)   17.257065\n",
       "3     MDVP:Jitter(%)    7.607233\n",
       "4   MDVP:Jitter(Abs)         NaN\n",
       "5           MDVP:RAP    6.262228\n",
       "6           MDVP:PPQ    6.428414\n",
       "7         Jitter:DDP   17.730525\n",
       "8       MDVP:Shimmer  127.969986\n",
       "9   MDVP:Shimmer(dB)  179.950644\n",
       "10      Shimmer:APQ3   50.975323\n",
       "11      Shimmer:APQ5   50.757486\n",
       "12          MDVP:APQ   38.045755\n",
       "13       Shimmer:DDA  116.417709\n",
       "14               NHR    9.295047\n",
       "15               HNR  113.513848\n",
       "16            status    7.088918\n",
       "17              RPDE   55.616809\n",
       "18               DFA  381.938145\n",
       "19           spread1  352.310026\n",
       "20           spread2   20.357928\n",
       "21                D2   94.474447\n",
       "22               PPE   96.187989"
      ]
     },
     "execution_count": 13,
     "metadata": {},
     "output_type": "execute_result"
    }
   ],
   "source": [
    "def calc_vif(X):\n",
    "    vif = pd.DataFrame()\n",
    "    vif[\"variables\"] = X.columns\n",
    "    vif[\"VIF\"] = [variance_inflation_factor(X.values, i) for i in range(X.shape[1])]\n",
    "    return(vif)\n",
    "calc_vif(round(pdata,2))"
   ]
  },
  {
   "cell_type": "markdown",
   "id": "3b45dc25",
   "metadata": {},
   "source": [
    "Observation:\n",
    "\n",
    "1.From the VIF scores computed above, it clearly appears that dataset has high multicollinearity.\n",
    "\n",
    "2.As discussed above, multicollinearity occurs when two or more independent variables are highly correlated with one another; which means that an independent variable can be predicted from another independent variable. Hence, we would not be able to distinguish between the individual effects of the independent variables on the dependent variable.\n",
    "\n",
    "3.It is important to reduce the multicollinearity; else our model might give biased outputs.\n",
    "\n",
    "4.We will follow the approach of deleting one attribute at a time and checking the VIF of the remaining attributes. We will continue to delete one attribute and check VIF of remaining till VIF of remaining attributes is less than 10"
   ]
  },
  {
   "cell_type": "code",
   "execution_count": 14,
   "id": "f16566c7",
   "metadata": {},
   "outputs": [
    {
     "data": {
      "text/html": [
       "<div>\n",
       "<style scoped>\n",
       "    .dataframe tbody tr th:only-of-type {\n",
       "        vertical-align: middle;\n",
       "    }\n",
       "\n",
       "    .dataframe tbody tr th {\n",
       "        vertical-align: top;\n",
       "    }\n",
       "\n",
       "    .dataframe thead th {\n",
       "        text-align: right;\n",
       "    }\n",
       "</style>\n",
       "<table border=\"1\" class=\"dataframe\">\n",
       "  <thead>\n",
       "    <tr style=\"text-align: right;\">\n",
       "      <th></th>\n",
       "      <th>variables</th>\n",
       "      <th>VIF</th>\n",
       "    </tr>\n",
       "  </thead>\n",
       "  <tbody>\n",
       "    <tr>\n",
       "      <th>0</th>\n",
       "      <td>MDVP:Fo(Hz)</td>\n",
       "      <td>43.626409</td>\n",
       "    </tr>\n",
       "    <tr>\n",
       "      <th>1</th>\n",
       "      <td>MDVP:Fhi(Hz)</td>\n",
       "      <td>8.414154</td>\n",
       "    </tr>\n",
       "    <tr>\n",
       "      <th>2</th>\n",
       "      <td>MDVP:Flo(Hz)</td>\n",
       "      <td>16.429654</td>\n",
       "    </tr>\n",
       "    <tr>\n",
       "      <th>3</th>\n",
       "      <td>MDVP:Jitter(%)</td>\n",
       "      <td>7.287722</td>\n",
       "    </tr>\n",
       "    <tr>\n",
       "      <th>4</th>\n",
       "      <td>MDVP:RAP</td>\n",
       "      <td>6.188621</td>\n",
       "    </tr>\n",
       "    <tr>\n",
       "      <th>5</th>\n",
       "      <td>MDVP:PPQ</td>\n",
       "      <td>6.264600</td>\n",
       "    </tr>\n",
       "    <tr>\n",
       "      <th>6</th>\n",
       "      <td>Jitter:DDP</td>\n",
       "      <td>17.151583</td>\n",
       "    </tr>\n",
       "    <tr>\n",
       "      <th>7</th>\n",
       "      <td>MDVP:Shimmer</td>\n",
       "      <td>127.960825</td>\n",
       "    </tr>\n",
       "    <tr>\n",
       "      <th>8</th>\n",
       "      <td>MDVP:Shimmer(dB)</td>\n",
       "      <td>176.304571</td>\n",
       "    </tr>\n",
       "    <tr>\n",
       "      <th>9</th>\n",
       "      <td>Shimmer:APQ3</td>\n",
       "      <td>50.830237</td>\n",
       "    </tr>\n",
       "    <tr>\n",
       "      <th>10</th>\n",
       "      <td>Shimmer:APQ5</td>\n",
       "      <td>49.999036</td>\n",
       "    </tr>\n",
       "    <tr>\n",
       "      <th>11</th>\n",
       "      <td>MDVP:APQ</td>\n",
       "      <td>37.707848</td>\n",
       "    </tr>\n",
       "    <tr>\n",
       "      <th>12</th>\n",
       "      <td>Shimmer:DDA</td>\n",
       "      <td>115.723791</td>\n",
       "    </tr>\n",
       "    <tr>\n",
       "      <th>13</th>\n",
       "      <td>NHR</td>\n",
       "      <td>7.935043</td>\n",
       "    </tr>\n",
       "    <tr>\n",
       "      <th>14</th>\n",
       "      <td>HNR</td>\n",
       "      <td>107.650431</td>\n",
       "    </tr>\n",
       "    <tr>\n",
       "      <th>15</th>\n",
       "      <td>RPDE</td>\n",
       "      <td>53.831297</td>\n",
       "    </tr>\n",
       "    <tr>\n",
       "      <th>16</th>\n",
       "      <td>spread1</td>\n",
       "      <td>176.171204</td>\n",
       "    </tr>\n",
       "    <tr>\n",
       "      <th>17</th>\n",
       "      <td>spread2</td>\n",
       "      <td>19.784841</td>\n",
       "    </tr>\n",
       "    <tr>\n",
       "      <th>18</th>\n",
       "      <td>D2</td>\n",
       "      <td>90.928419</td>\n",
       "    </tr>\n",
       "    <tr>\n",
       "      <th>19</th>\n",
       "      <td>PPE</td>\n",
       "      <td>60.468166</td>\n",
       "    </tr>\n",
       "  </tbody>\n",
       "</table>\n",
       "</div>"
      ],
      "text/plain": [
       "           variables         VIF\n",
       "0        MDVP:Fo(Hz)   43.626409\n",
       "1       MDVP:Fhi(Hz)    8.414154\n",
       "2       MDVP:Flo(Hz)   16.429654\n",
       "3     MDVP:Jitter(%)    7.287722\n",
       "4           MDVP:RAP    6.188621\n",
       "5           MDVP:PPQ    6.264600\n",
       "6         Jitter:DDP   17.151583\n",
       "7       MDVP:Shimmer  127.960825\n",
       "8   MDVP:Shimmer(dB)  176.304571\n",
       "9       Shimmer:APQ3   50.830237\n",
       "10      Shimmer:APQ5   49.999036\n",
       "11          MDVP:APQ   37.707848\n",
       "12       Shimmer:DDA  115.723791\n",
       "13               NHR    7.935043\n",
       "14               HNR  107.650431\n",
       "15              RPDE   53.831297\n",
       "16           spread1  176.171204\n",
       "17           spread2   19.784841\n",
       "18                D2   90.928419\n",
       "19               PPE   60.468166"
      ]
     },
     "execution_count": 14,
     "metadata": {},
     "output_type": "execute_result"
    }
   ],
   "source": [
    "# The attribute with the highest VIF is DFA. Dropping DFA from the dataset. \n",
    "# We also noticed that VIF of MDVP:Jitter(Abs) is Not a number. Hence, we will drop MDVP:Jitter(Abs) as well.\n",
    "# We will also drop Status; since it is a target variable\n",
    "pdata=pdata.drop(['DFA','MDVP:Jitter(Abs)','status'],axis=1)\n",
    "\n",
    "# Computing VIF of remaining attributes\n",
    "calc_vif(round(pdata,2))"
   ]
  },
  {
   "cell_type": "code",
   "execution_count": 15,
   "id": "a00c68d6",
   "metadata": {},
   "outputs": [
    {
     "data": {
      "text/html": [
       "<div>\n",
       "<style scoped>\n",
       "    .dataframe tbody tr th:only-of-type {\n",
       "        vertical-align: middle;\n",
       "    }\n",
       "\n",
       "    .dataframe tbody tr th {\n",
       "        vertical-align: top;\n",
       "    }\n",
       "\n",
       "    .dataframe thead th {\n",
       "        text-align: right;\n",
       "    }\n",
       "</style>\n",
       "<table border=\"1\" class=\"dataframe\">\n",
       "  <thead>\n",
       "    <tr style=\"text-align: right;\">\n",
       "      <th></th>\n",
       "      <th>variables</th>\n",
       "      <th>VIF</th>\n",
       "    </tr>\n",
       "  </thead>\n",
       "  <tbody>\n",
       "    <tr>\n",
       "      <th>0</th>\n",
       "      <td>MDVP:Fhi(Hz)</td>\n",
       "      <td>5.269247</td>\n",
       "    </tr>\n",
       "    <tr>\n",
       "      <th>1</th>\n",
       "      <td>MDVP:Flo(Hz)</td>\n",
       "      <td>5.313824</td>\n",
       "    </tr>\n",
       "    <tr>\n",
       "      <th>2</th>\n",
       "      <td>MDVP:Jitter(%)</td>\n",
       "      <td>4.680998</td>\n",
       "    </tr>\n",
       "    <tr>\n",
       "      <th>3</th>\n",
       "      <td>MDVP:RAP</td>\n",
       "      <td>4.362311</td>\n",
       "    </tr>\n",
       "    <tr>\n",
       "      <th>4</th>\n",
       "      <td>MDVP:PPQ</td>\n",
       "      <td>3.948684</td>\n",
       "    </tr>\n",
       "    <tr>\n",
       "      <th>5</th>\n",
       "      <td>MDVP:APQ</td>\n",
       "      <td>7.240203</td>\n",
       "    </tr>\n",
       "    <tr>\n",
       "      <th>6</th>\n",
       "      <td>NHR</td>\n",
       "      <td>5.278017</td>\n",
       "    </tr>\n",
       "    <tr>\n",
       "      <th>7</th>\n",
       "      <td>spread2</td>\n",
       "      <td>8.244022</td>\n",
       "    </tr>\n",
       "  </tbody>\n",
       "</table>\n",
       "</div>"
      ],
      "text/plain": [
       "        variables       VIF\n",
       "0    MDVP:Fhi(Hz)  5.269247\n",
       "1    MDVP:Flo(Hz)  5.313824\n",
       "2  MDVP:Jitter(%)  4.680998\n",
       "3        MDVP:RAP  4.362311\n",
       "4        MDVP:PPQ  3.948684\n",
       "5        MDVP:APQ  7.240203\n",
       "6             NHR  5.278017\n",
       "7         spread2  8.244022"
      ]
     },
     "execution_count": 15,
     "metadata": {},
     "output_type": "execute_result"
    }
   ],
   "source": [
    "# It is clearly noticable that VIF of other variable has decreased when we dropped DFA from the data set.\n",
    "# We will continue to delete one attribute at a time and check till the VIF of the remaining attributes is below 10; \n",
    "# And we will select the attribute with highest VIF for deletion.\n",
    "\n",
    "pdata=pdata.drop(['MDVP:Shimmer(dB)','spread1','MDVP:Shimmer','D2','Shimmer:DDA','RPDE','Shimmer:APQ5','MDVP:Fo(Hz)',\n",
    "                  'PPE','HNR','Shimmer:APQ3','Jitter:DDP'],axis=1)\n",
    "\n",
    "# Computing VIF of remaining attributes\n",
    "calc_vif(round(pdata,2))"
   ]
  },
  {
   "cell_type": "markdown",
   "id": "f95b939f",
   "metadata": {},
   "source": [
    "## FEATURE SPLIT\n",
    "\n",
    "Split the data into training and test set in the ratio of 70:30 respectively"
   ]
  },
  {
   "cell_type": "code",
   "execution_count": 16,
   "id": "476a65da",
   "metadata": {},
   "outputs": [],
   "source": [
    "# lets build our classification model\n",
    "# independent variables\n",
    "X = pdata\n",
    "\n",
    "# X=pd.DataFrame(X_stand1)\n",
    "# the dependent variable\n",
    "y = udata['status']"
   ]
  },
  {
   "cell_type": "code",
   "execution_count": 17,
   "id": "c72ba0eb",
   "metadata": {},
   "outputs": [],
   "source": [
    "X_train, X_test, y_train, y_test=train_test_split(X,y,test_size=0.30,random_state=1)"
   ]
  },
  {
   "cell_type": "code",
   "execution_count": 18,
   "id": "1121e2af",
   "metadata": {},
   "outputs": [
    {
     "name": "stdout",
     "output_type": "stream",
     "text": [
      "69.74% data is in training set\n",
      "30.26% data is in test set\n"
     ]
    }
   ],
   "source": [
    "# lets check split of data\n",
    "print(\"{0:0.2f}% data is in training set\".format((len(X_train)/len(pdata.index)) * 100))\n",
    "print(\"{0:0.2f}% data is in test set\".format((len(X_test)/len(pdata.index)) * 100))"
   ]
  },
  {
   "cell_type": "code",
   "execution_count": 19,
   "id": "7b3ce74c",
   "metadata": {},
   "outputs": [
    {
     "name": "stdout",
     "output_type": "stream",
     "text": [
      "In the original dataset people who had parkinson Dieases    : 147 (75.38%)\n",
      "In the original dataset people who didnot have Parkinson Disease   : 48 (24.62%)\n",
      "\n",
      "In the training dataset people who who had parkinson Dieases    : 107 (78.68%)\n",
      "In the training dataset people who didnot have Parkinson Disease    : 29 (21.32%)\n",
      "\n",
      "In the test dataset people who who had parkinson Dieases    : 40 (67.80%)\n",
      "In the test dataset people who didnot have Parkinson Disease    : 19 (32.20%)\n"
     ]
    }
   ],
   "source": [
    "y_train_yPD=y_train[y_train==1].count()\n",
    "y_train_nPD=y_train[y_train==0].count()\n",
    "y_test_yPD=y_test[y_test==1].count()\n",
    "y_test_nPD=y_test[y_test==0].count()\n",
    "\n",
    "print(\"In the original dataset people who had parkinson Dieases    : {0} ({1:0.2f}%)\".format(len(pdata.loc[udata['status'] == 1]), (len(pdata.loc[udata['status'] == 1])/len(pdata.index)) * 100))\n",
    "print(\"In the original dataset people who didnot have Parkinson Disease   : {0} ({1:0.2f}%)\".format(len(pdata.loc[udata['status'] == 0]), (len(pdata.loc[udata['status'] == 0])/len(pdata.index)) * 100))\n",
    "print(\"\")\n",
    "print(\"In the training dataset people who who had parkinson Dieases    : {0} ({1:0.2f}%)\".format(y_train_yPD, (y_train_yPD/len(y_train))*100))\n",
    "print(\"In the training dataset people who didnot have Parkinson Disease    : {0} ({1:0.2f}%)\".format(y_train_nPD, (y_train_nPD/len(y_train))*100))\n",
    "print(\"\")\n",
    "print(\"In the test dataset people who who had parkinson Dieases    : {0} ({1:0.2f}%)\".format(y_test_yPD, (y_test_yPD/len(y_test))*100))\n",
    "print(\"In the test dataset people who didnot have Parkinson Disease    : {0} ({1:0.2f}%)\".format(y_test_nPD, (y_test_nPD/len(y_test))*100))\n"
   ]
  },
  {
   "cell_type": "markdown",
   "id": "d66a15de",
   "metadata": {},
   "source": [
    "## SCALING OF DATA \n",
    "\n",
    "From the dataset it is quite evident that different independent variables have different scales e.g: DB, %age, Hz etc. Now, Machine learning algorithms dont recognize the unit of data; Hence, it won't be prudent to compare DB with a %age or %age with Hz. Higher ranging numbers in one of the attributes will have superiority. 10 DB and 10% means different but machine learning algorithm understand both to be the same.\n",
    "\n",
    "Scales impacts:\n",
    "\n",
    "Gradient descent based algorithms like Linear Regression, Logistics Regression\n",
    "Distance based algorithms like KNN, K-means and SVM\n",
    "\n",
    "Scales dont impact:\n",
    "\n",
    "Tree based algorithms like Decision trees"
   ]
  },
  {
   "cell_type": "code",
   "execution_count": 20,
   "id": "037fa833",
   "metadata": {},
   "outputs": [],
   "source": [
    "# lets create a copy of the train and test data for scaling\n",
    "X_Train_stand = X_train.copy()\n",
    "X_Test_stand = X_test.copy()\n",
    "\n",
    "# we will use standard scaler for scaling the data.\n",
    "scale = StandardScaler().fit(X_Train_stand)\n",
    "X_train= scale.transform(X_Train_stand)\n",
    "\n",
    "X_test= scale.transform(X_Test_stand)"
   ]
  },
  {
   "cell_type": "markdown",
   "id": "cabe82b7",
   "metadata": {},
   "source": [
    "## MODELLING ( TRAINING )\n",
    "\n",
    "We will train the following classification algorithms:\n",
    "\n",
    "1.Logistic Regression\n",
    "\n",
    "2.KNN\n",
    "\n",
    "3.Naive Bayes\n",
    "\n",
    "4.SVM\n",
    "\n",
    "Post training the model, in addition to the accuracy; we will also compute\n",
    "\n",
    "1.Confusion Matrix\n",
    "\n",
    "2.Classification Report\n",
    "\n",
    "For the provided dataset, accuracy might not be the only most important score; but recall (which is out of all subjects who had Parkinson Disease, how many actually had the disease) is the most important score; since our aim should be to identify as much subjects with disease as possible.\n",
    "\n",
    "The following are the performance measures:\n",
    "\n",
    "    1.The accuracy: It is out of all subjects in the data, how many were predicted correctly for having the disease or not                         having the disease = ((TP+TN)/(TP+TN+FP+FN))\n",
    "    2.The precision: It is out of all subjects who were predicted to have Parkinson Disease, how many actually had parkinson                        Disease = (TP/(TP+FP))\n",
    "    3.The recall: It is out of all subjects who had parkinson Disease, how many did we identify = ((TP/(TP+FN)))\n",
    "    4.The F1 score which is computed considering both precision and recall together: 2PR/(P+R)\n",
    "\n",
    "The accuracy, precision, accuracy, F1 score can be computed (referring the formulas above) as well as referred from the classification report\n"
   ]
  },
  {
   "cell_type": "markdown",
   "id": "743ddc58",
   "metadata": {},
   "source": [
    "### Classification Model 1: Logistic Regression "
   ]
  },
  {
   "cell_type": "code",
   "execution_count": 21,
   "id": "73003a58",
   "metadata": {},
   "outputs": [
    {
     "data": {
      "text/plain": [
       "LogisticRegression(solver='liblinear')"
      ]
     },
     "execution_count": 21,
     "metadata": {},
     "output_type": "execute_result"
    }
   ],
   "source": [
    "# Fit the model on train data\n",
    "model = LogisticRegression(solver=\"liblinear\")\n",
    "model.fit(X_train,y_train)"
   ]
  },
  {
   "cell_type": "code",
   "execution_count": 22,
   "id": "15456d17",
   "metadata": {},
   "outputs": [
    {
     "data": {
      "text/plain": [
       "array([1, 1, 1, 1, 1, 1, 1, 1, 1, 1, 1, 0, 1, 1, 1, 0, 1, 1, 1, 1, 0, 1,\n",
       "       1, 1, 1, 1, 1, 1, 1, 0, 1, 1, 1, 1, 1, 1, 0, 1, 0, 1, 1, 1, 1, 0,\n",
       "       1, 1, 1, 1, 1, 1, 0, 1, 1, 1, 1, 1, 1, 1, 1], dtype=int64)"
      ]
     },
     "execution_count": 22,
     "metadata": {},
     "output_type": "execute_result"
    }
   ],
   "source": [
    "# predict on the test data\n",
    "y_predict_LR = model.predict(X_test)\n",
    "y_predict_LR"
   ]
  },
  {
   "cell_type": "code",
   "execution_count": 23,
   "id": "43e3cbd2",
   "metadata": {},
   "outputs": [
    {
     "data": {
      "text/html": [
       "<div>\n",
       "<style scoped>\n",
       "    .dataframe tbody tr th:only-of-type {\n",
       "        vertical-align: middle;\n",
       "    }\n",
       "\n",
       "    .dataframe tbody tr th {\n",
       "        vertical-align: top;\n",
       "    }\n",
       "\n",
       "    .dataframe thead th {\n",
       "        text-align: right;\n",
       "    }\n",
       "</style>\n",
       "<table border=\"1\" class=\"dataframe\">\n",
       "  <thead>\n",
       "    <tr style=\"text-align: right;\">\n",
       "      <th></th>\n",
       "      <th>0</th>\n",
       "      <th>1</th>\n",
       "      <th>2</th>\n",
       "      <th>3</th>\n",
       "      <th>4</th>\n",
       "      <th>5</th>\n",
       "      <th>6</th>\n",
       "      <th>7</th>\n",
       "      <th>intercept</th>\n",
       "    </tr>\n",
       "  </thead>\n",
       "  <tbody>\n",
       "    <tr>\n",
       "      <th>0</th>\n",
       "      <td>-0.37033</td>\n",
       "      <td>-0.434062</td>\n",
       "      <td>-0.383377</td>\n",
       "      <td>0.691242</td>\n",
       "      <td>0.370025</td>\n",
       "      <td>1.111399</td>\n",
       "      <td>-0.270629</td>\n",
       "      <td>0.729314</td>\n",
       "      <td>1.986594</td>\n",
       "    </tr>\n",
       "  </tbody>\n",
       "</table>\n",
       "</div>"
      ],
      "text/plain": [
       "         0         1         2         3         4         5         6  \\\n",
       "0 -0.37033 -0.434062 -0.383377  0.691242  0.370025  1.111399 -0.270629   \n",
       "\n",
       "          7  intercept  \n",
       "0  0.729314   1.986594  "
      ]
     },
     "execution_count": 23,
     "metadata": {},
     "output_type": "execute_result"
    }
   ],
   "source": [
    "coef_df = pd.DataFrame(model.coef_)\n",
    "coef_df['intercept'] = model.intercept_\n",
    "coef_df"
   ]
  },
  {
   "cell_type": "code",
   "execution_count": 24,
   "id": "d477361d",
   "metadata": {},
   "outputs": [
    {
     "name": "stdout",
     "output_type": "stream",
     "text": [
      "Model Accuracy of Logistic Regression is: 0.8136\n",
      "\n"
     ]
    }
   ],
   "source": [
    "model_score_LR = model.score(X_test, y_test)\n",
    "print(\"Model Accuracy of Logistic Regression is: {0:.4f}\".format(model_score_LR))\n",
    "print()"
   ]
  },
  {
   "cell_type": "markdown",
   "id": "85c84ec5",
   "metadata": {},
   "source": [
    "#### Confusion Matrix: Logistic Regression"
   ]
  },
  {
   "cell_type": "code",
   "execution_count": 25,
   "id": "d8119897",
   "metadata": {},
   "outputs": [
    {
     "name": "stdout",
     "output_type": "stream",
     "text": [
      "Confusion Matrix - Logistic Regression\n"
     ]
    },
    {
     "data": {
      "image/png": "[encoded data removed]",
      "text/plain": [
       "<Figure size 504x360 with 2 Axes>"
      ]
     },
     "metadata": {},
     "output_type": "display_data"
    }
   ],
   "source": [
    "print(\"Confusion Matrix - Logistic Regression\")\n",
    "cm=metrics.confusion_matrix(y_test, y_predict_LR, labels=[1, 0])\n",
    "\n",
    "df_cm = pd.DataFrame(cm, index = [i for i in [\"1\",\"0\"]],columns = [i for i in [\"Predict 1\",\"Predict 0\"]])\n",
    "plt.figure(figsize = (7,5))\n",
    "sns.heatmap(df_cm, annot=True);"
   ]
  },
  {
   "cell_type": "markdown",
   "id": "25bd0544",
   "metadata": {},
   "source": [
    "The confusion matrix: Logistic Regression\n",
    "\n",
    "True Positives (TP): We correctly predicted the count of subjects having Parkinson Disease and they actually had PD: 40\n",
    "\n",
    "True Negatives (TN): We correctly predicted the count of subjects not having Parkinson Disease and they actually dint have PD: 8\n",
    "\n",
    "False Positives (FP): We incorrectly predicted the count of subjects have Parkinson Disease but they actually dint have PD: 11\n",
    "\n",
    "False Negatives (FN): We incorrectly predicted the count of subjects not having Parkinson Disease but they actually had PD: 0"
   ]
  },
  {
   "cell_type": "code",
   "execution_count": 26,
   "id": "c77b765e",
   "metadata": {},
   "outputs": [
    {
     "name": "stdout",
     "output_type": "stream",
     "text": [
      "Classification Report - Logistic Regression\n",
      "              precision    recall  f1-score   support\n",
      "\n",
      "           1       0.78      1.00      0.88        40\n",
      "           0       1.00      0.42      0.59        19\n",
      "\n",
      "    accuracy                           0.81        59\n",
      "   macro avg       0.89      0.71      0.74        59\n",
      "weighted avg       0.85      0.81      0.79        59\n",
      "\n"
     ]
    }
   ],
   "source": [
    "print(\"Classification Report - Logistic Regression\")\n",
    "print(metrics.classification_report(y_test, y_predict_LR, labels=[1, 0]))"
   ]
  },
  {
   "cell_type": "markdown",
   "id": "70fb1fd4",
   "metadata": {},
   "source": [
    "Performance measures of Logistic Regression:\n",
    "\n",
    "1.The accuracy of the logistic Regression model is 0.81\n",
    "\n",
    "2.The recall of the logistic Regression model is 1.00\n",
    "\n",
    "3.The precision of the logistic Regression model is 0.78\n",
    "\n",
    "4.The F1 score of the logistic Regression model is 0.88\n",
    "\n",
    "Observation:\n",
    "\n",
    "The recall of the logistic Regression model is 1; which means we were able to idetify all the subjects who had the disease."
   ]
  },
  {
   "cell_type": "markdown",
   "id": "30c17e3c",
   "metadata": {},
   "source": [
    "### Classification Model 2 : KNN "
   ]
  },
  {
   "cell_type": "code",
   "execution_count": 27,
   "id": "4a914b4b",
   "metadata": {},
   "outputs": [
    {
     "data": {
      "text/plain": [
       "KNeighborsClassifier(weights='distance')"
      ]
     },
     "execution_count": 27,
     "metadata": {},
     "output_type": "execute_result"
    }
   ],
   "source": [
    "# Call Nearest Neighbour algorithm and fit the model on train data\n",
    "NNH = KNeighborsClassifier(n_neighbors= 5 , weights = 'distance' )\n",
    "NNH.fit(X_train, np.ravel(y_train,order='C'))"
   ]
  },
  {
   "cell_type": "code",
   "execution_count": 28,
   "id": "691c3f37",
   "metadata": {},
   "outputs": [
    {
     "name": "stdout",
     "output_type": "stream",
     "text": [
      "Model Accuracy of KNN is: 0.8305\n",
      "\n"
     ]
    }
   ],
   "source": [
    "# For every test data point, predict it's label based on 5 nearest neighbours in this model. \n",
    "#The majority class will be assigned to the test data point\n",
    "\n",
    "y_predict_KNN = NNH.predict(X_test)\n",
    "model_score_KNN = NNH.score(X_test, y_test)\n",
    "\n",
    "print(\"Model Accuracy of KNN is: {0:.4f}\".format(model_score_KNN))\n",
    "print()"
   ]
  },
  {
   "cell_type": "markdown",
   "id": "e4301c35",
   "metadata": {},
   "source": [
    "#### Confusion Matrix: KNN"
   ]
  },
  {
   "cell_type": "code",
   "execution_count": 29,
   "id": "e4bb3418",
   "metadata": {},
   "outputs": [
    {
     "name": "stdout",
     "output_type": "stream",
     "text": [
      "Confusion Matrix - KNN\n"
     ]
    },
    {
     "data": {
      "image/png": "[encoded data removed]",
      "text/plain": [
       "<Figure size 504x360 with 2 Axes>"
      ]
     },
     "metadata": {},
     "output_type": "display_data"
    }
   ],
   "source": [
    "print(\"Confusion Matrix - KNN\")\n",
    "cm=metrics.confusion_matrix(y_test, y_predict_KNN, labels=[1, 0])\n",
    "df_cm = pd.DataFrame(cm, index = [i for i in [\"1\",\"0\"]],\n",
    "                  columns = [i for i in [\"Predict 1\",\"Predict 0\"]])\n",
    "plt.figure(figsize = (7,5))\n",
    "sns.heatmap(df_cm, annot=True);"
   ]
  },
  {
   "cell_type": "markdown",
   "id": "43a96c67",
   "metadata": {},
   "source": [
    "The confusion matrix: KNN\n",
    "\n",
    "1.True Positives (TP): We correctly predicted the count of subjects having Parkinson Disease and they actually had PD: 38\n",
    "\n",
    "2.True Negatives (TN): We correctly predicted the count of subjects not having Parkinson Disease and they actually dint have PD: 11\n",
    "\n",
    "3.False Positives (FP): We incorrectly predicted the count of subjects have Parkinson Disease but they actually dint have PD: 8\n",
    "\n",
    "4.False Negatives (FN): We incorrectly predicted the count of subjects not having Parkinson Disease but they actually had PD: 2"
   ]
  },
  {
   "cell_type": "code",
   "execution_count": 30,
   "id": "d9dcf045",
   "metadata": {},
   "outputs": [
    {
     "name": "stdout",
     "output_type": "stream",
     "text": [
      "Classification Report - KNN\n",
      "              precision    recall  f1-score   support\n",
      "\n",
      "           1       0.83      0.95      0.88        40\n",
      "           0       0.85      0.58      0.69        19\n",
      "\n",
      "    accuracy                           0.83        59\n",
      "   macro avg       0.84      0.76      0.79        59\n",
      "weighted avg       0.83      0.83      0.82        59\n",
      "\n"
     ]
    }
   ],
   "source": [
    "print(\"Classification Report - KNN\")\n",
    "print(metrics.classification_report(y_test, y_predict_KNN, labels=[1, 0]))"
   ]
  },
  {
   "cell_type": "markdown",
   "id": "410a1cf5",
   "metadata": {},
   "source": [
    "Performance measures of KNN:\n",
    "\n",
    "1.The accuracy of the KNN model is 0.83\n",
    "\n",
    "2.The recall of the KNN model is 0.95\n",
    "\n",
    "3.The precision of the KNN model is 0.83\n",
    "\n",
    "4.The F1 score of the KNN model is 0.88\n",
    "\n",
    "Observation:\n",
    "\n",
    "1.The recall of the KNN model is 0.95; which means we were not able to idetify all the subjects who had the disease.\n",
    "\n",
    "2.When compared to Logistics Regression, while this model had better accuracy; however, KNN is not able to identify all the subjects with the disease."
   ]
  },
  {
   "cell_type": "markdown",
   "id": "f49aafeb",
   "metadata": {},
   "source": [
    "### Classification Model 3: Naïve Bayes"
   ]
  },
  {
   "cell_type": "code",
   "execution_count": 31,
   "id": "3afcfc19",
   "metadata": {},
   "outputs": [
    {
     "data": {
      "text/plain": [
       "GaussianNB()"
      ]
     },
     "execution_count": 31,
     "metadata": {},
     "output_type": "execute_result"
    }
   ],
   "source": [
    "NB_model = GaussianNB()\n",
    "NB_model.fit(X_train, y_train)"
   ]
  },
  {
   "cell_type": "code",
   "execution_count": 32,
   "id": "f9495551",
   "metadata": {},
   "outputs": [
    {
     "name": "stdout",
     "output_type": "stream",
     "text": [
      "Model Accuracy of Naive Bayes is: 0.6102\n",
      "\n"
     ]
    }
   ],
   "source": [
    "y_predict_NB = NB_model.predict(X_test)\n",
    "model_score_NB=metrics.accuracy_score(y_test, y_predict_NB)\n",
    "\n",
    "print(\"Model Accuracy of Naive Bayes is: {0:.4f}\".format(model_score_NB))\n",
    "print()"
   ]
  },
  {
   "cell_type": "markdown",
   "id": "9c979396",
   "metadata": {},
   "source": [
    "#### Confusion Matrix: Naïve Bayes"
   ]
  },
  {
   "cell_type": "code",
   "execution_count": 33,
   "id": "303840bb",
   "metadata": {},
   "outputs": [
    {
     "name": "stdout",
     "output_type": "stream",
     "text": [
      "Confusion Matrix - Naive Bayes\n"
     ]
    },
    {
     "data": {
      "image/png": "[encoded data removed]",
      "text/plain": [
       "<Figure size 504x360 with 2 Axes>"
      ]
     },
     "metadata": {},
     "output_type": "display_data"
    }
   ],
   "source": [
    "print(\"Confusion Matrix - Naive Bayes\")\n",
    "cm=metrics.confusion_matrix(y_test, y_predict_NB, labels=[1, 0])\n",
    "df_cm = pd.DataFrame(cm, index = [i for i in [\"1\",\"0\"]],\n",
    "                  columns = [i for i in [\"Predict 1\",\"Predict 0\"]])\n",
    "plt.figure(figsize = (7,5))\n",
    "sns.heatmap(df_cm, annot=True);"
   ]
  },
  {
   "cell_type": "markdown",
   "id": "39455001",
   "metadata": {},
   "source": [
    "The confusion matrix: Naive Bayes\n",
    "\n",
    "1.True Positives (TP): We correctly predicted the count of subjects having Parkinson Disease and they actually had PD: 21\n",
    "\n",
    "2.True Negatives (TN): We correctly predicted the count of subjects not having Parkinson Disease and they actually dint have PD: 15\n",
    "\n",
    "3.False Positives (FP): We incorrectly predicted the count of subjects have Parkinson Disease but they actually dint have PD: 4\n",
    "\n",
    "4.False Negatives (FN): We incorrectly predicted the count of subjects not having Parkinson Disease but they actually had PD: 19"
   ]
  },
  {
   "cell_type": "code",
   "execution_count": 34,
   "id": "869c7dda",
   "metadata": {},
   "outputs": [
    {
     "name": "stdout",
     "output_type": "stream",
     "text": [
      "Classification Report - Naive Bayes\n",
      "              precision    recall  f1-score   support\n",
      "\n",
      "           1       0.84      0.53      0.65        40\n",
      "           0       0.44      0.79      0.57        19\n",
      "\n",
      "    accuracy                           0.61        59\n",
      "   macro avg       0.64      0.66      0.61        59\n",
      "weighted avg       0.71      0.61      0.62        59\n",
      "\n"
     ]
    }
   ],
   "source": [
    "print(\"Classification Report - Naive Bayes\")\n",
    "print(metrics.classification_report(y_test, y_predict_NB, labels=[1, 0]))"
   ]
  },
  {
   "cell_type": "markdown",
   "id": "b8fca046",
   "metadata": {},
   "source": [
    "Performance measures of Naive Bayes:\n",
    "\n",
    "1.The accuracy of the Naive Bayes model is 0.61\n",
    "\n",
    "2.The recall of the Naive Bayes model is 0.53\n",
    "\n",
    "3.The precision of the Naive Bayes model is 0.84\n",
    "\n",
    "4.The F1 score of the Naive Bayes model is 0.65\n",
    "\n",
    "Observation:\n",
    "    \n",
    "1.Out of the 3 model trained, Naive Bayes model has the worst Recall and it is quite evident that we were not able to idetify all the subjects who had the disease.\n",
    "\n",
    "2.When compared to Logistics Regression and KNN, this is the worst performing model on all parameters."
   ]
  },
  {
   "cell_type": "markdown",
   "id": "9b544512",
   "metadata": {},
   "source": [
    "### Classification Model 4: SVM"
   ]
  },
  {
   "cell_type": "code",
   "execution_count": 35,
   "id": "efb3e47e",
   "metadata": {},
   "outputs": [
    {
     "data": {
      "text/plain": [
       "SVC(C=3, gamma=0.025)"
      ]
     },
     "execution_count": 35,
     "metadata": {},
     "output_type": "execute_result"
    }
   ],
   "source": [
    "clf = svm.SVC(gamma=0.025, C=3) \n",
    "clf.fit(X_train , y_train)"
   ]
  },
  {
   "cell_type": "code",
   "execution_count": 36,
   "id": "ba603394",
   "metadata": {},
   "outputs": [
    {
     "name": "stdout",
     "output_type": "stream",
     "text": [
      "Model Accuracy of SVM is: 0.8136\n",
      "\n"
     ]
    }
   ],
   "source": [
    "y_predict_SVM = clf.predict(X_test)\n",
    "model_score_NB=metrics.accuracy_score(y_test, y_predict_SVM)\n",
    "\n",
    "print(\"Model Accuracy of SVM is: {0:.4f}\".format(model_score_NB))\n",
    "print()"
   ]
  },
  {
   "cell_type": "markdown",
   "id": "f4137481",
   "metadata": {},
   "source": [
    "#### Confusion Matrix: SVM"
   ]
  },
  {
   "cell_type": "code",
   "execution_count": 37,
   "id": "4632bdcb",
   "metadata": {},
   "outputs": [
    {
     "name": "stdout",
     "output_type": "stream",
     "text": [
      "Confusion Matrix - SVM\n"
     ]
    },
    {
     "data": {
      "image/png": "[encoded data removed]",
      "text/plain": [
       "<Figure size 504x360 with 2 Axes>"
      ]
     },
     "metadata": {},
     "output_type": "display_data"
    }
   ],
   "source": [
    "print(\"Confusion Matrix - SVM\")\n",
    "cm=metrics.confusion_matrix(y_test, y_predict_SVM, labels=[1, 0])\n",
    "df_cm = pd.DataFrame(cm, index = [i for i in [\"1\",\"0\"]],columns = [i for i in [\"Predict 1\",\"Predict 0\"]])\n",
    "plt.figure(figsize = (7,5))\n",
    "sns.heatmap(df_cm, annot=True);"
   ]
  },
  {
   "cell_type": "markdown",
   "id": "e22e03b0",
   "metadata": {},
   "source": [
    "The confusion matrix: SVM\n",
    "\n",
    "1.True Positives (TP): We correctly predicted the count of subjects having Parkinson Disease and they actually had PD: 40\n",
    "\n",
    "2.True Negatives (TN): We correctly predicted the count of subjects not having Parkinson Disease and they actually dint have PD: 8\n",
    "\n",
    "3.False Positives (FP): We incorrectly predicted the count of subjects have Parkinson Disease but they actually dint have PD: 11\n",
    "\n",
    "4.False Negatives (FN): We incorrectly predicted the count of subjects not having Parkinson Disease but they actually had PD: 0"
   ]
  },
  {
   "cell_type": "code",
   "execution_count": 38,
   "id": "ff97d6d3",
   "metadata": {},
   "outputs": [
    {
     "name": "stdout",
     "output_type": "stream",
     "text": [
      "Classification Report - SVM\n",
      "              precision    recall  f1-score   support\n",
      "\n",
      "           1       0.78      1.00      0.88        40\n",
      "           0       1.00      0.42      0.59        19\n",
      "\n",
      "    accuracy                           0.81        59\n",
      "   macro avg       0.89      0.71      0.74        59\n",
      "weighted avg       0.85      0.81      0.79        59\n",
      "\n"
     ]
    }
   ],
   "source": [
    "print(\"Classification Report - SVM\")\n",
    "print(metrics.classification_report(y_test, y_predict_SVM, labels=[1, 0]))"
   ]
  },
  {
   "cell_type": "markdown",
   "id": "4b7c7a6d",
   "metadata": {},
   "source": [
    "Performance measures of SVM:\n",
    "\n",
    "1.The accuracy of the SVM model is 0.81\n",
    "\n",
    "2.The recall of the SVM model is 1.00\n",
    "\n",
    "3.The precision of the SVM model is 0.78\n",
    "\n",
    "4.The F1 score of the SVM model is 0.88\n",
    "\n",
    "Observation:\n",
    "\n",
    "The recall of the SVM model is 1; which means we were able to idetify all the subjects who had the disease."
   ]
  },
  {
   "cell_type": "markdown",
   "id": "a9439150",
   "metadata": {},
   "source": [
    "## Training using  standard Ensemble models :\n",
    "\n",
    "We will train the following ensemble algorithms:\n",
    "\n",
    "1.Random Forest\n",
    "\n",
    "2.XGB Classifer"
   ]
  },
  {
   "cell_type": "markdown",
   "id": "2bc89b4e",
   "metadata": {},
   "source": [
    "### Ensemble Model 1: Random Forest"
   ]
  },
  {
   "cell_type": "code",
   "execution_count": 39,
   "id": "127e9f53",
   "metadata": {},
   "outputs": [],
   "source": [
    "model_rf = RandomForestClassifier(n_estimators = 50,random_state=1,max_features=3) \n",
    "model_rf = model_rf.fit(X_train, y_train)"
   ]
  },
  {
   "cell_type": "code",
   "execution_count": 40,
   "id": "c35b1031",
   "metadata": {},
   "outputs": [
    {
     "name": "stdout",
     "output_type": "stream",
     "text": [
      "0.864406779661017\n"
     ]
    }
   ],
   "source": [
    "y_predict_rf = model_rf.predict(X_test)\n",
    "print(model_rf.score(X_test, y_test))"
   ]
  },
  {
   "cell_type": "markdown",
   "id": "3d9edc7d",
   "metadata": {},
   "source": [
    "#### Confusion Matrix: Random Forest"
   ]
  },
  {
   "cell_type": "code",
   "execution_count": 41,
   "id": "cea227fe",
   "metadata": {},
   "outputs": [
    {
     "name": "stdout",
     "output_type": "stream",
     "text": [
      "Confusion Matrix -Random Forest\n"
     ]
    },
    {
     "data": {
      "image/png": "[encoded data removed]",
      "text/plain": [
       "<Figure size 504x360 with 2 Axes>"
      ]
     },
     "metadata": {},
     "output_type": "display_data"
    }
   ],
   "source": [
    "print(\"Confusion Matrix -Random Forest\")\n",
    "cm=metrics.confusion_matrix(y_test, y_predict_rf, labels=[1, 0])\n",
    "df_cm = pd.DataFrame(cm, index = [i for i in [\"1\",\"0\"]],\n",
    "                  columns = [i for i in [\"Predict 1\",\"Predict 0\"]])\n",
    "plt.figure(figsize = (7,5))\n",
    "sns.heatmap(df_cm, annot=True);"
   ]
  },
  {
   "cell_type": "markdown",
   "id": "0ee00ea4",
   "metadata": {},
   "source": [
    "The confusion matrix: Random Forest\n",
    "\n",
    "1.True Positives (TP): We correctly predicted the count of subjects having Parkinson Disease and they actually had PD: 40\n",
    "\n",
    "2.True Negatives (TN): We correctly predicted the count of subjects not having Parkinson Disease and they actually dint have PD: 11\n",
    "\n",
    "3.False Positives (FP): We incorrectly predicted the count of subjects have Parkinson Disease but they actually dint have PD: 8\n",
    "\n",
    "4.False Negatives (FN): We incorrectly predicted the count of subjects not having Parkinson Disease but they actually had PD: 0"
   ]
  },
  {
   "cell_type": "code",
   "execution_count": 42,
   "id": "804f04f7",
   "metadata": {},
   "outputs": [
    {
     "name": "stdout",
     "output_type": "stream",
     "text": [
      "Classification Report - Random Forest\n",
      "              precision    recall  f1-score   support\n",
      "\n",
      "           1       0.83      1.00      0.91        40\n",
      "           0       1.00      0.58      0.73        19\n",
      "\n",
      "    accuracy                           0.86        59\n",
      "   macro avg       0.92      0.79      0.82        59\n",
      "weighted avg       0.89      0.86      0.85        59\n",
      "\n"
     ]
    }
   ],
   "source": [
    "print(\"Classification Report - Random Forest\")\n",
    "print(metrics.classification_report(y_test, y_predict_rf, labels=[1, 0]))"
   ]
  },
  {
   "cell_type": "markdown",
   "id": "cc6844fd",
   "metadata": {},
   "source": [
    "Performance measures of Random Forest:\n",
    "\n",
    "1.The accuracy of the Random Forest model is 0.86\n",
    "\n",
    "2.The recall of the Random Forest model is 1.00\n",
    "\n",
    "3.The precision of the Random Forest model is 0.83\n",
    "\n",
    "4.The F1 score of the Random Forest model is 0.91\n",
    "\n",
    "Observation:\n",
    "\n",
    "Random Forest has a recall of 1 which means that we were able to identify all the subjects who had Parkinson Disease."
   ]
  },
  {
   "cell_type": "markdown",
   "id": "16da9ed2",
   "metadata": {},
   "source": [
    "### Ensemble Model 2: XG Boost"
   ]
  },
  {
   "cell_type": "code",
   "execution_count": 60,
   "id": "6220592d",
   "metadata": {},
   "outputs": [
    {
     "name": "stdout",
     "output_type": "stream",
     "text": [
      "The accuracy of the XGB Classifier is: [0.89830508]\n"
     ]
    }
   ],
   "source": [
    "from xgboost import XGBClassifier\n",
    "model = XGBClassifier(random_state=0, learning_rate=0.1, n_estimators=100, max_depth=4)\n",
    "model = model.fit(X_train, y_train)\n",
    "y_predict_XGB = model.predict(X_test)\n",
    "print('The accuracy of the XGB Classifier is: [%.8f]' % accuracy_score(y_test, y_predict_XGB))"
   ]
  },
  {
   "cell_type": "markdown",
   "id": "0154eb2b",
   "metadata": {},
   "source": [
    "#### Confusion Matrix: XGB Classifier"
   ]
  },
  {
   "cell_type": "code",
   "execution_count": 61,
   "id": "49066c98",
   "metadata": {},
   "outputs": [
    {
     "name": "stdout",
     "output_type": "stream",
     "text": [
      "Confusion Matrix - XGB Classifier\n"
     ]
    },
    {
     "data": {
      "image/png": "[encoded data removed]",
      "text/plain": [
       "<Figure size 504x360 with 2 Axes>"
      ]
     },
     "metadata": {},
     "output_type": "display_data"
    }
   ],
   "source": [
    "print(\"Confusion Matrix - XGB Classifier\")\n",
    "cm=metrics.confusion_matrix(y_test, y_predict_XGB, labels=[1, 0])\n",
    "df_cm = pd.DataFrame(cm, index = [i for i in [\"1\",\"0\"]],\n",
    "                  columns = [i for i in [\"Predict 1\",\"Predict 0\"]])\n",
    "plt.figure(figsize = (7,5))\n",
    "sns.heatmap(df_cm, annot=True);"
   ]
  },
  {
   "cell_type": "markdown",
   "id": "2124b5ca",
   "metadata": {},
   "source": [
    "The confusion matrix: XG Boost\n",
    "\n",
    "1.True Positives (TP): We correctly predicted the count of subjects having Parkinson Disease and they actually had PD: 40\n",
    "\n",
    "2.True Negatives (TN): We correctly predicted the count of subjects not having Parkinson Disease and they actually dint have PD: 13\n",
    "\n",
    "3.False Positives (FP): We incorrectly predicted the count of subjects have Parkinson Disease but they actually dint have PD: 6\n",
    "\n",
    "4.False Negatives (FN): We incorrectly predicted the count of subjects not having Parkinson Disease but they actually had PD: 0"
   ]
  },
  {
   "cell_type": "code",
   "execution_count": 62,
   "id": "66b01332",
   "metadata": {},
   "outputs": [
    {
     "name": "stdout",
     "output_type": "stream",
     "text": [
      "Classification Report - XGB Classifier\n",
      "              precision    recall  f1-score   support\n",
      "\n",
      "           1       0.87      1.00      0.93        40\n",
      "           0       1.00      0.68      0.81        19\n",
      "\n",
      "    accuracy                           0.90        59\n",
      "   macro avg       0.93      0.84      0.87        59\n",
      "weighted avg       0.91      0.90      0.89        59\n",
      "\n"
     ]
    }
   ],
   "source": [
    "print(\"Classification Report - XGB Classifier\")\n",
    "print(metrics.classification_report(y_test, y_predict_XGB, labels=[1, 0]))"
   ]
  },
  {
   "cell_type": "markdown",
   "id": "9b205876",
   "metadata": {},
   "source": [
    "Performance measures of XG boost:\n",
    "\n",
    "1.The accuracy of the XG boost model is 0.90\n",
    "\n",
    "2.The recall of the XG boost model is 1.0\n",
    "\n",
    "3.The precision of the XG boost model is 0.87\n",
    "\n",
    "4.The F1 score of the XG boost model is 0.93\n",
    "\n",
    "Observation:\n",
    "\n",
    "XG boost has a recall of 1 which means that we were able to identify all the subjects who had Parkinson Disease."
   ]
  },
  {
   "cell_type": "markdown",
   "id": "60027122",
   "metadata": {},
   "source": [
    "## COMPARE AND PICK THE BEST \n",
    "\n",
    "We will consolidate all the models into a table for quick reference and then make our observations\n",
    "To do the same, we will create summary of all the models and then call them inside a data frame"
   ]
  },
  {
   "cell_type": "markdown",
   "id": "256480a5",
   "metadata": {},
   "source": [
    "### 1. Summarise all the models  "
   ]
  },
  {
   "cell_type": "code",
   "execution_count": 65,
   "id": "11365da4",
   "metadata": {},
   "outputs": [],
   "source": [
    "# Model1: Logistic Summary\n",
    "\n",
    "Accuracy_LR=round(metrics.accuracy_score(y_test, y_predict_LR),2)\n",
    "Recall_LR=round(metrics.recall_score(y_test, y_predict_LR),2)\n",
    "Precision_LR=round(metrics.precision_score(y_test, y_predict_LR),2)\n",
    "F1_LR=round(metrics.f1_score(y_test, y_predict_LR),2)"
   ]
  },
  {
   "cell_type": "code",
   "execution_count": 66,
   "id": "325f108e",
   "metadata": {},
   "outputs": [],
   "source": [
    "# Model2: KNN Summary\n",
    "\n",
    "Accuracy_KNN=round(metrics.accuracy_score(y_test, y_predict_KNN),2)\n",
    "Recall_KNN=round(metrics.recall_score(y_test, y_predict_KNN),2)\n",
    "Precision_KNN=round(metrics.precision_score(y_test, y_predict_KNN),2)\n",
    "F1_KNN=round(metrics.f1_score(y_test, y_predict_KNN),2)"
   ]
  },
  {
   "cell_type": "code",
   "execution_count": 67,
   "id": "7ea8c9b4",
   "metadata": {},
   "outputs": [],
   "source": [
    "# Model3:Native Bayes Summary\n",
    "\n",
    "Accuracy_NB=round(metrics.accuracy_score(y_test, y_predict_NB),2)\n",
    "Recall_NB=round(metrics.recall_score(y_test, y_predict_NB),2)\n",
    "Precision_NB=round(metrics.precision_score(y_test, y_predict_NB),2)\n",
    "F1_NB=round(metrics.f1_score(y_test, y_predict_NB),2)"
   ]
  },
  {
   "cell_type": "code",
   "execution_count": 68,
   "id": "9ce90482",
   "metadata": {},
   "outputs": [],
   "source": [
    "# Model4:SVM Summary\n",
    "\n",
    "Accuracy_SVM=round(metrics.accuracy_score(y_test, y_predict_SVM),2)\n",
    "Recall_SVM=round(metrics.recall_score(y_test, y_predict_SVM),2)\n",
    "Precision_SVM=round(metrics.precision_score(y_test, y_predict_SVM),2)\n",
    "F1_SVM=round(metrics.f1_score(y_test, y_predict_SVM),2)"
   ]
  },
  {
   "cell_type": "code",
   "execution_count": 69,
   "id": "9c708557",
   "metadata": {},
   "outputs": [],
   "source": [
    "# Model5: Random Forest Summary\n",
    "\n",
    "Accuracy_rf=round(metrics.accuracy_score(y_test, y_predict_rf),2)\n",
    "Recall_rf=round(metrics.recall_score(y_test, y_predict_rf),2)\n",
    "Precision_rf=round(metrics.precision_score(y_test, y_predict_rf),2)\n",
    "F1_rf=round(metrics.f1_score(y_test, y_predict_rf),2)"
   ]
  },
  {
   "cell_type": "code",
   "execution_count": 70,
   "id": "c100f8d4",
   "metadata": {},
   "outputs": [],
   "source": [
    "# Model6: XGB Summary\n",
    "\n",
    "Accuracy_XGB=round(metrics.accuracy_score(y_test, y_predict_XGB),2)\n",
    "Recall_XGB=round(metrics.recall_score(y_test, y_predict_XGB),2)\n",
    "Precision_XGB=round(metrics.precision_score(y_test, y_predict_XGB),2)\n",
    "F1_XGB=round(metrics.f1_score(y_test, y_predict_XGB),2)"
   ]
  },
  {
   "cell_type": "markdown",
   "id": "49a597c2",
   "metadata": {},
   "source": [
    "### 2. Summarise all the models"
   ]
  },
  {
   "cell_type": "code",
   "execution_count": 71,
   "id": "98f8f497",
   "metadata": {},
   "outputs": [],
   "source": [
    "summary = {'Accuracy': [Accuracy_LR,Accuracy_KNN,Accuracy_NB,Accuracy_SVM,Accuracy_rf,Accuracy_XGB],\n",
    "           'Recall': [Recall_LR,Recall_KNN,Recall_NB,Recall_SVM,Recall_rf,Recall_XGB],\n",
    "           'Precision': [Precision_LR,Precision_KNN,Precision_NB,Precision_SVM,Precision_rf,Precision_XGB],\n",
    "           'F1Score':[F1_LR,F1_KNN,F1_NB,F1_SVM,F1_rf,F1_XGB]}\n",
    "models=['Logistic Regression','KNN','Naive Bayes','SVM','Random Forest','XGB']\n",
    "sum_df = pd.DataFrame(summary,models)"
   ]
  },
  {
   "cell_type": "code",
   "execution_count": 72,
   "id": "bc3863b3",
   "metadata": {},
   "outputs": [
    {
     "data": {
      "text/html": [
       "<div>\n",
       "<style scoped>\n",
       "    .dataframe tbody tr th:only-of-type {\n",
       "        vertical-align: middle;\n",
       "    }\n",
       "\n",
       "    .dataframe tbody tr th {\n",
       "        vertical-align: top;\n",
       "    }\n",
       "\n",
       "    .dataframe thead th {\n",
       "        text-align: right;\n",
       "    }\n",
       "</style>\n",
       "<table border=\"1\" class=\"dataframe\">\n",
       "  <thead>\n",
       "    <tr style=\"text-align: right;\">\n",
       "      <th></th>\n",
       "      <th>Accuracy</th>\n",
       "      <th>Recall</th>\n",
       "      <th>Precision</th>\n",
       "      <th>F1Score</th>\n",
       "    </tr>\n",
       "  </thead>\n",
       "  <tbody>\n",
       "    <tr>\n",
       "      <th>Logistic Regression</th>\n",
       "      <td>0.81</td>\n",
       "      <td>1.00</td>\n",
       "      <td>0.78</td>\n",
       "      <td>0.88</td>\n",
       "    </tr>\n",
       "    <tr>\n",
       "      <th>KNN</th>\n",
       "      <td>0.83</td>\n",
       "      <td>0.95</td>\n",
       "      <td>0.83</td>\n",
       "      <td>0.88</td>\n",
       "    </tr>\n",
       "    <tr>\n",
       "      <th>Naive Bayes</th>\n",
       "      <td>0.61</td>\n",
       "      <td>0.52</td>\n",
       "      <td>0.84</td>\n",
       "      <td>0.65</td>\n",
       "    </tr>\n",
       "    <tr>\n",
       "      <th>SVM</th>\n",
       "      <td>0.81</td>\n",
       "      <td>1.00</td>\n",
       "      <td>0.78</td>\n",
       "      <td>0.88</td>\n",
       "    </tr>\n",
       "    <tr>\n",
       "      <th>Random Forest</th>\n",
       "      <td>0.86</td>\n",
       "      <td>1.00</td>\n",
       "      <td>0.83</td>\n",
       "      <td>0.91</td>\n",
       "    </tr>\n",
       "    <tr>\n",
       "      <th>XGB</th>\n",
       "      <td>0.90</td>\n",
       "      <td>1.00</td>\n",
       "      <td>0.87</td>\n",
       "      <td>0.93</td>\n",
       "    </tr>\n",
       "  </tbody>\n",
       "</table>\n",
       "</div>"
      ],
      "text/plain": [
       "                     Accuracy  Recall  Precision  F1Score\n",
       "Logistic Regression      0.81    1.00       0.78     0.88\n",
       "KNN                      0.83    0.95       0.83     0.88\n",
       "Naive Bayes              0.61    0.52       0.84     0.65\n",
       "SVM                      0.81    1.00       0.78     0.88\n",
       "Random Forest            0.86    1.00       0.83     0.91\n",
       "XGB                      0.90    1.00       0.87     0.93"
      ]
     },
     "execution_count": 72,
     "metadata": {},
     "output_type": "execute_result"
    }
   ],
   "source": [
    "sum_df"
   ]
  },
  {
   "cell_type": "markdown",
   "id": "a08dee8a",
   "metadata": {},
   "source": [
    "Out of the models above (with highest Recall); XG Boost has the highest precison (0.87). XG Boost also has the highest accuracy.\n",
    "Hence, XG Boost is selected as the best model amongst all the models"
   ]
  },
  {
   "cell_type": "code",
   "execution_count": null,
   "id": "51e6b756",
   "metadata": {},
   "outputs": [],
   "source": []
  }
 ],
 "metadata": {
  "kernelspec": {
   "display_name": "Python 3 (ipykernel)",
   "language": "python",
   "name": "python3"
  },
  "language_info": {
   "codemirror_mode": {
    "name": "ipython",
    "version": 3
   },
   "file_extension": ".py",
   "mimetype": "text/x-python",
   "name": "python",
   "nbconvert_exporter": "python",
   "pygments_lexer": "ipython3",
   "version": "3.9.12"
  }
 },
 "nbformat": 4,
 "nbformat_minor": 5
}
